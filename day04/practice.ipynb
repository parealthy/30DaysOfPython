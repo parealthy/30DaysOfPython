{
 "cells": [
  {
   "cell_type": "code",
   "execution_count": 1,
   "id": "89107db4",
   "metadata": {},
   "outputs": [
    {
     "name": "stdout",
     "output_type": "stream",
     "text": [
      "I like python.\n",
      "Aren't you?\n"
     ]
    }
   ],
   "source": [
    "print(\"I like python.\\nAren't you?\")"
   ]
  },
  {
   "cell_type": "code",
   "execution_count": 2,
   "id": "b68073e9",
   "metadata": {},
   "outputs": [
    {
     "name": "stdout",
     "output_type": "stream",
     "text": [
      "AGE\tNAME\tJOB\n"
     ]
    }
   ],
   "source": [
    "print(\"AGE\\tNAME\\tJOB\")"
   ]
  },
  {
   "cell_type": "code",
   "execution_count": 4,
   "id": "84a89674",
   "metadata": {},
   "outputs": [
    {
     "name": "stdout",
     "output_type": "stream",
     "text": [
      "This is a backslash  symbol \\\n"
     ]
    }
   ],
   "source": [
    "print('This is a backslash  symbol \\\\')"
   ]
  },
  {
   "cell_type": "code",
   "execution_count": 6,
   "id": "4d6747df",
   "metadata": {},
   "outputs": [
    {
     "name": "stdout",
     "output_type": "stream",
     "text": [
      "In every programming language it starts with \"Hello, World!\"\n"
     ]
    }
   ],
   "source": [
    "print('In every programming language it starts with \"Hello, World!\"')"
   ]
  },
  {
   "cell_type": "code",
   "execution_count": 7,
   "id": "9d98945b",
   "metadata": {},
   "outputs": [
    {
     "name": "stdout",
     "output_type": "stream",
     "text": [
      "\\\n"
     ]
    }
   ],
   "source": [
    "print('\\\\')"
   ]
  },
  {
   "cell_type": "code",
   "execution_count": 10,
   "id": "1c2b6e59",
   "metadata": {},
   "outputs": [
    {
     "ename": "TypeError",
     "evalue": "not enough arguments for format string",
     "output_type": "error",
     "traceback": [
      "\u001b[31m---------------------------------------------------------------------------\u001b[39m",
      "\u001b[31mTypeError\u001b[39m                                 Traceback (most recent call last)",
      "\u001b[36mCell\u001b[39m\u001b[36m \u001b[39m\u001b[32mIn[10]\u001b[39m\u001b[32m, line 5\u001b[39m\n\u001b[32m      3\u001b[39m language = \u001b[33m'\u001b[39m\u001b[33mPython\u001b[39m\u001b[33m'\u001b[39m\n\u001b[32m      4\u001b[39m formated_string = \u001b[33m'\u001b[39m\u001b[33mI am \u001b[39m\u001b[38;5;132;01m%s\u001b[39;00m\u001b[33m \u001b[39m\u001b[38;5;132;01m%s\u001b[39;00m\u001b[33m. I teach \u001b[39m\u001b[38;5;132;01m%s\u001b[39;00m\u001b[33m'\u001b[39m %(first_name, last_name, language)\n\u001b[32m----> \u001b[39m\u001b[32m5\u001b[39m \u001b[38;5;28mprint\u001b[39m(\u001b[33;43m'\u001b[39;49m\u001b[33;43mI am \u001b[39;49m\u001b[38;5;132;43;01m%s\u001b[39;49;00m\u001b[33;43m \u001b[39;49m\u001b[38;5;132;43;01m%s\u001b[39;49;00m\u001b[33;43m. I teach \u001b[39;49m\u001b[38;5;132;43;01m%s\u001b[39;49;00m\u001b[33;43m'\u001b[39;49m\u001b[43m \u001b[49m\u001b[43m%\u001b[49m\u001b[43m(\u001b[49m\u001b[43mfirst_name\u001b[49m\u001b[43m,\u001b[49m\u001b[43m \u001b[49m\u001b[43mlast_name\u001b[49m\u001b[43m)\u001b[49m)\n",
      "\u001b[31mTypeError\u001b[39m: not enough arguments for format string"
     ]
    }
   ],
   "source": [
    "first_name = 'Asabeneh'\n",
    "last_name = 'Yetayeh'\n",
    "language = 'Python'\n",
    "formated_string = 'I am %s %s. I teach %s' %(first_name, last_name, language)\n",
    "print('I am %s %s. I teach %s' %(first_name, last_name))"
   ]
  },
  {
   "cell_type": "code",
   "execution_count": null,
   "id": "43cc66a2",
   "metadata": {},
   "outputs": [],
   "source": [
    "python_libraries = ['Django', 'Flask', 'NumPy', 'Matplotlib','Pandas']\n",
    "formated_string = 'The following are python libraries:%s' %(python_libraries)"
   ]
  },
  {
   "cell_type": "code",
   "execution_count": 14,
   "id": "1a586e9a",
   "metadata": {},
   "outputs": [
    {
     "name": "stdout",
     "output_type": "stream",
     "text": [
      "The following are python libraries:['Django', 'Flask', 'NumPy', 'Matplotlib', 'Pandas']\n"
     ]
    }
   ],
   "source": [
    "print(formated_string)"
   ]
  },
  {
   "cell_type": "code",
   "execution_count": 15,
   "id": "2070a52f",
   "metadata": {},
   "outputs": [
    {
     "name": "stdout",
     "output_type": "stream",
     "text": [
      "I am Asabeneh Yetayeh. I teach Python\n"
     ]
    }
   ],
   "source": [
    "first_name = 'Asabeneh'\n",
    "last_name = 'Yetayeh'\n",
    "language = 'Python'\n",
    "formated_string = 'I am {} {}. I teach {}'.format(first_name, last_name, language)\n",
    "print(formated_string)"
   ]
  },
  {
   "cell_type": "code",
   "execution_count": 16,
   "id": "92f21cd1",
   "metadata": {},
   "outputs": [
    {
     "name": "stdout",
     "output_type": "stream",
     "text": [
      "4 + 3 = 7\n",
      "4 - 3 = 1\n",
      "4 * 3 = 12\n",
      "4 / 3 = 1.33\n",
      "4 % 3 = 1\n",
      "4 // 3 = 1\n",
      "4 ** 3 = 64\n"
     ]
    }
   ],
   "source": [
    "a = 4\n",
    "b = 3\n",
    "\n",
    "print('{} + {} = {}'.format(a, b, a + b))\n",
    "print('{} - {} = {}'.format(a, b, a - b))\n",
    "print('{} * {} = {}'.format(a, b, a * b))\n",
    "print('{} / {} = {:.2f}'.format(a, b, a / b)) # 限制保留两位小数\n",
    "print('{} % {} = {}'.format(a, b, a % b))\n",
    "print('{} // {} = {}'.format(a, b, a // b))\n",
    "print('{} ** {} = {}'.format(a, b, a ** b))"
   ]
  },
  {
   "cell_type": "code",
   "execution_count": 17,
   "id": "24bd5d62",
   "metadata": {},
   "outputs": [
    {
     "name": "stdout",
     "output_type": "stream",
     "text": [
      "thirty\tdays\tof\tpython\n",
      "thirty  days    of      python\n",
      "thirty    days      of        python\n"
     ]
    }
   ],
   "source": [
    "challenge = 'thirty\\tdays\\tof\\tpython'\n",
    "print(challenge)\n",
    "print(challenge.expandtabs())   # 'thirty  days    of      python'\n",
    "print(challenge.expandtabs(10)) # 'thirty    days      of        python'"
   ]
  },
  {
   "cell_type": "code",
   "execution_count": 18,
   "id": "7ac6abae",
   "metadata": {},
   "outputs": [
    {
     "name": "stdout",
     "output_type": "stream",
     "text": [
      "²\n"
     ]
    }
   ],
   "source": [
    "challenge = '\\u00B2'\n",
    "print(challenge)"
   ]
  },
  {
   "cell_type": "code",
   "execution_count": 19,
   "id": "748ceea5",
   "metadata": {},
   "outputs": [
    {
     "name": "stdout",
     "output_type": "stream",
     "text": [
      "True\n"
     ]
    }
   ],
   "source": [
    "challenge = '1234560'\n",
    "print(challenge.isdecimal())"
   ]
  },
  {
   "cell_type": "code",
   "execution_count": 20,
   "id": "0c9d8431",
   "metadata": {},
   "outputs": [
    {
     "name": "stdout",
     "output_type": "stream",
     "text": [
      "False\n",
      "True\n"
     ]
    }
   ],
   "source": [
    "challenge = '\\u00B2'\n",
    "print(challenge.isdecimal())\n",
    "print(challenge.isdigit())"
   ]
  },
  {
   "cell_type": "code",
   "execution_count": 21,
   "id": "1ebb672b",
   "metadata": {},
   "outputs": [
    {
     "name": "stdout",
     "output_type": "stream",
     "text": [
      "False\n",
      "False\n",
      "False\n"
     ]
    }
   ],
   "source": [
    "num = '10.5'\n",
    "print(num.isnumeric())\n",
    "print(num.isdecimal())\n",
    "print(num.isdigit())"
   ]
  },
  {
   "cell_type": "code",
   "execution_count": 22,
   "id": "603f6d42",
   "metadata": {},
   "outputs": [
    {
     "name": "stdout",
     "output_type": "stream",
     "text": [
      "irty days of py\n"
     ]
    }
   ],
   "source": [
    "challenge = 'thirty days of pythoonnn'\n",
    "print(challenge.strip('noth')) "
   ]
  },
  {
   "cell_type": "code",
   "execution_count": 23,
   "id": "4288c0b3",
   "metadata": {},
   "outputs": [
    {
     "data": {
      "text/plain": [
       "['thirty', 'days', 'of', 'python']"
      ]
     },
     "execution_count": 23,
     "metadata": {},
     "output_type": "execute_result"
    }
   ],
   "source": [
    "challenge = 'thirty days of python'\n",
    "challenge.split()"
   ]
  },
  {
   "cell_type": "code",
   "execution_count": 24,
   "id": "a8cf864b",
   "metadata": {},
   "outputs": [
    {
     "data": {
      "text/plain": [
       "['thirtydaysofpython']"
      ]
     },
     "execution_count": 24,
     "metadata": {},
     "output_type": "execute_result"
    }
   ],
   "source": [
    "challenge = 'thirtydaysofpython'\n",
    "challenge.split()"
   ]
  },
  {
   "cell_type": "code",
   "execution_count": 25,
   "id": "68df4a6f",
   "metadata": {},
   "outputs": [
    {
     "data": {
      "text/plain": [
       "['thirty,days,of,python,']"
      ]
     },
     "execution_count": 25,
     "metadata": {},
     "output_type": "execute_result"
    }
   ],
   "source": [
    "challenge = 'thirty,days,of,python, '\n",
    "challenge.split()"
   ]
  },
  {
   "cell_type": "code",
   "execution_count": 26,
   "id": "11bea684",
   "metadata": {},
   "outputs": [
    {
     "data": {
      "text/plain": [
       "['thirty', 'days', 'of', 'python', ' ']"
      ]
     },
     "execution_count": 26,
     "metadata": {},
     "output_type": "execute_result"
    }
   ],
   "source": [
    "challenge.split(',')"
   ]
  },
  {
   "cell_type": "code",
   "execution_count": 27,
   "id": "32210da3",
   "metadata": {},
   "outputs": [
    {
     "name": "stdout",
     "output_type": "stream",
     "text": [
      "True\n"
     ]
    }
   ],
   "source": [
    "challenge = '30 days of python'\n",
    "print(challenge.startswith('30'))"
   ]
  },
  {
   "cell_type": "code",
   "execution_count": 30,
   "id": "8a3a78e0",
   "metadata": {},
   "outputs": [
    {
     "name": "stdout",
     "output_type": "stream",
     "text": [
      "Thirty Days Of Python\n"
     ]
    }
   ],
   "source": [
    "words = ['Thirty','Days','Of','Python']\n",
    "print(' '.join(words))"
   ]
  },
  {
   "cell_type": "code",
   "execution_count": 31,
   "id": "31bcba46",
   "metadata": {},
   "outputs": [
    {
     "name": "stdout",
     "output_type": "stream",
     "text": [
      "CODING FOR ALL\n",
      "coding for all\n",
      "Coding for all\n",
      "Coding For All\n",
      "cODING fOR aLL\n"
     ]
    }
   ],
   "source": [
    "company = \"Coding For All\"\n",
    "print(company.upper())\n",
    "print(company.lower())\n",
    "print(company.capitalize())\n",
    "print(company.title())\n",
    "print(company.swapcase())"
   ]
  },
  {
   "cell_type": "code",
   "execution_count": 32,
   "id": "db63a689",
   "metadata": {},
   "outputs": [
    {
     "name": "stdout",
     "output_type": "stream",
     "text": [
      "Coding\n",
      "0\n",
      "0\n",
      "-1\n"
     ]
    }
   ],
   "source": [
    "print(company[0:6])\n",
    "print(company.find(\"Coding\"))\n",
    "print(company.index(\"Coding\"))\n",
    "print(company.find('coding'))"
   ]
  },
  {
   "cell_type": "code",
   "execution_count": 33,
   "id": "337bcfe9",
   "metadata": {},
   "outputs": [
    {
     "name": "stdout",
     "output_type": "stream",
     "text": [
      "Python For All\n",
      "Coding For All\n"
     ]
    }
   ],
   "source": [
    "print(company.replace('Coding','Python'))\n",
    "print(company)"
   ]
  },
  {
   "cell_type": "code",
   "execution_count": 34,
   "id": "f317e7df",
   "metadata": {},
   "outputs": [
    {
     "name": "stdout",
     "output_type": "stream",
     "text": [
      "['Facebook', ' Google', ' Microsoft', ' Apple', ' IBM', ' Oracle', ' Amazon']\n"
     ]
    }
   ],
   "source": [
    "print('Facebook, Google, Microsoft, Apple, IBM, Oracle, Amazon'.split(','))"
   ]
  },
  {
   "cell_type": "code",
   "execution_count": 35,
   "id": "ce40b0f4",
   "metadata": {},
   "outputs": [
    {
     "name": "stdout",
     "output_type": "stream",
     "text": [
      "7\n"
     ]
    }
   ],
   "source": [
    "print(company.index('F'))"
   ]
  },
  {
   "cell_type": "code",
   "execution_count": 36,
   "id": "5697f38b",
   "metadata": {},
   "outputs": [
    {
     "name": "stdout",
     "output_type": "stream",
     "text": [
      "12\n",
      "19\n"
     ]
    }
   ],
   "source": [
    "family = \"Coding For All People\"\n",
    "print(family.find('l'))\n",
    "print(family.rfind('l'))"
   ]
  },
  {
   "cell_type": "code",
   "execution_count": 37,
   "id": "612a2ff0",
   "metadata": {},
   "outputs": [
    {
     "name": "stdout",
     "output_type": "stream",
     "text": [
      "31\n",
      "31\n"
     ]
    }
   ],
   "source": [
    "sentence = 'You cannot end a sentence with because because because is a conjunction'\n",
    "print(sentence.find('because'))\n",
    "print(sentence.index('because'))"
   ]
  },
  {
   "cell_type": "code",
   "execution_count": 39,
   "id": "b6becacb",
   "metadata": {},
   "outputs": [
    {
     "name": "stdout",
     "output_type": "stream",
     "text": [
      "47\n",
      "47\n"
     ]
    }
   ],
   "source": [
    "print(sentence.rindex('because'))\n",
    "print(sentence.rfind(\"because\"))"
   ]
  },
  {
   "cell_type": "code",
   "execution_count": null,
   "id": "4e098a38",
   "metadata": {},
   "outputs": [
    {
     "name": "stdout",
     "output_type": "stream",
     "text": [
      "You cannot end a sentence with because because because is a conjunction\n"
     ]
    }
   ],
   "source": [
    "print(sentence.strip('because because because',))"
   ]
  },
  {
   "cell_type": "code",
   "execution_count": 41,
   "id": "5d1f8fb2",
   "metadata": {},
   "outputs": [
    {
     "name": "stdout",
     "output_type": "stream",
     "text": [
      "True\n"
     ]
    }
   ],
   "source": [
    "print(company.startswith('Coding'))"
   ]
  },
  {
   "cell_type": "code",
   "execution_count": 42,
   "id": "9d22b96f",
   "metadata": {},
   "outputs": [
    {
     "name": "stdout",
     "output_type": "stream",
     "text": [
      "False\n"
     ]
    }
   ],
   "source": [
    "print(company.endswith('coding'))"
   ]
  },
  {
   "cell_type": "code",
   "execution_count": 45,
   "id": "67a39425",
   "metadata": {},
   "outputs": [
    {
     "name": "stdout",
     "output_type": "stream",
     "text": [
      "Coding For All\n"
     ]
    }
   ],
   "source": [
    "print('   Coding For All      '.strip()) "
   ]
  },
  {
   "cell_type": "code",
   "execution_count": 46,
   "id": "e25a9c6d",
   "metadata": {},
   "outputs": [
    {
     "name": "stdout",
     "output_type": "stream",
     "text": [
      "The area of a circle with 10 is 314.0 meters square.\n"
     ]
    }
   ],
   "source": [
    "radius = 10\n",
    "area = 3.14 * radius ** 2\n",
    "print(f\"The area of a circle with {radius} is {area} meters square.\")"
   ]
  },
  {
   "cell_type": "code",
   "execution_count": 3,
   "id": "5b084ece",
   "metadata": {},
   "outputs": [
    {
     "name": "stdout",
     "output_type": "stream",
     "text": [
      "*\n",
      "***\n",
      "*****\n",
      "*******\n",
      "*********\n",
      "***********\n",
      "*************\n",
      "***************\n",
      "*****************\n",
      "*******************\n"
     ]
    }
   ],
   "source": [
    "print('\\n'.join(f\"{'*'*(2*i+1)}\" for i in range(10)))"
   ]
  },
  {
   "cell_type": "code",
   "execution_count": null,
   "id": "1275d3be",
   "metadata": {},
   "outputs": [],
   "source": []
  }
 ],
 "metadata": {
  "kernelspec": {
   "display_name": "Python 3",
   "language": "python",
   "name": "python3"
  },
  "language_info": {
   "codemirror_mode": {
    "name": "ipython",
    "version": 3
   },
   "file_extension": ".py",
   "mimetype": "text/x-python",
   "name": "python",
   "nbconvert_exporter": "python",
   "pygments_lexer": "ipython3",
   "version": "3.13.3"
  }
 },
 "nbformat": 4,
 "nbformat_minor": 5
}
