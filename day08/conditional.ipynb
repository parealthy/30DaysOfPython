{
 "cells": [
  {
   "cell_type": "code",
   "execution_count": 1,
   "id": "086e511d",
   "metadata": {},
   "outputs": [],
   "source": [
    "age = input(\"请输入你的年龄：\")"
   ]
  },
  {
   "cell_type": "code",
   "execution_count": 2,
   "id": "3a0729d9",
   "metadata": {},
   "outputs": [
    {
     "name": "stdout",
     "output_type": "stream",
     "text": [
      "a>b\n"
     ]
    }
   ],
   "source": [
    "a = input(\"请输入第一个数字\")\n",
    "b = input(\"请输入第二个数字\")\n",
    "print(\"a>b\") if a>b else print(\"a<=b\")"
   ]
  },
  {
   "cell_type": "code",
   "execution_count": 4,
   "id": "d506e006",
   "metadata": {},
   "outputs": [
    {
     "name": "stdout",
     "output_type": "stream",
     "text": [
      "该水果已在列表中\n"
     ]
    }
   ],
   "source": [
    "fruits = ['banana', 'orange', 'mango', 'lemon']\n",
    "fruit = input(\"输入水果：\")\n",
    "if fruit in fruits:\n",
    "    print(\"该水果已在列表中\")\n",
    "else:\n",
    "    fruits.append(fruit)\n",
    "    print(fruits)"
   ]
  },
  {
   "cell_type": "code",
   "execution_count": 5,
   "id": "b52133b5",
   "metadata": {},
   "outputs": [
    {
     "name": "stdout",
     "output_type": "stream",
     "text": [
      "Node\n",
      "Python\n",
      "ZhuDi is a student,he is 23 years old!\n"
     ]
    }
   ],
   "source": [
    "person = {\n",
    "    'first_name': 'Zhu',\n",
    "    'last_name': 'Di',\n",
    "    'age': 23,\n",
    "    'country': 'China',\n",
    "    'is_married': False,\n",
    "    'skills': ['JavaScript', 'React', 'Node', 'MongoDB', 'Python'],\n",
    "    'address': {\n",
    "        'street': '太空街',\n",
    "        'zipcode': '02210'\n",
    "    }\n",
    "}\n",
    "if 'skills' in person:\n",
    "    print(person['skills'][2])\n",
    "    if 'Python' in person['skills']:\n",
    "        print('Python')\n",
    "    if 'JavaScript' in person['skills']  and 'React' in person['skills'] and len(person['skills']) == 2:\n",
    "        print('He is a front end developer')\n",
    "\n",
    "if not person['is_married'] and person['country'] == 'China':\n",
    "    print(f\"{person['first_name']}{person['last_name']} is a student,he is {person['age']} years old!\")\n"
   ]
  },
  {
   "cell_type": "code",
   "execution_count": null,
   "id": "caa847ad",
   "metadata": {},
   "outputs": [],
   "source": []
  }
 ],
 "metadata": {
  "kernelspec": {
   "display_name": "Python 3",
   "language": "python",
   "name": "python3"
  },
  "language_info": {
   "codemirror_mode": {
    "name": "ipython",
    "version": 3
   },
   "file_extension": ".py",
   "mimetype": "text/x-python",
   "name": "python",
   "nbconvert_exporter": "python",
   "pygments_lexer": "ipython3",
   "version": "3.13.3"
  }
 },
 "nbformat": 4,
 "nbformat_minor": 5
}
