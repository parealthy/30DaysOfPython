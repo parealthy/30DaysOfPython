{
 "cells": [
  {
   "cell_type": "code",
   "execution_count": 1,
   "id": "34134382",
   "metadata": {},
   "outputs": [],
   "source": [
    "import re"
   ]
  },
  {
   "cell_type": "code",
   "execution_count": 2,
   "id": "7d9bdeaf",
   "metadata": {},
   "outputs": [
    {
     "name": "stdout",
     "output_type": "stream",
     "text": [
      "<re.Match object; span=(0, 15), match='I love to teach'>\n"
     ]
    }
   ],
   "source": [
    "txt = 'I love to teach python and javaScript'\n",
    "# 它返回一个带有span和match的对象\n",
    "match = re.match('I love to teach', txt, re.I)\n",
    "print(match)"
   ]
  },
  {
   "cell_type": "code",
   "execution_count": 3,
   "id": "42f2194b",
   "metadata": {},
   "outputs": [
    {
     "data": {
      "text/plain": [
       "re.Match"
      ]
     },
     "execution_count": 3,
     "metadata": {},
     "output_type": "execute_result"
    }
   ],
   "source": [
    "type(match)"
   ]
  },
  {
   "cell_type": "code",
   "execution_count": 4,
   "id": "f7a6a709",
   "metadata": {},
   "outputs": [
    {
     "data": {
      "text/plain": [
       "(0, 15)"
      ]
     },
     "execution_count": 4,
     "metadata": {},
     "output_type": "execute_result"
    }
   ],
   "source": [
    "match.span()"
   ]
  },
  {
   "cell_type": "code",
   "execution_count": 5,
   "id": "cd631588",
   "metadata": {},
   "outputs": [
    {
     "name": "stdout",
     "output_type": "stream",
     "text": [
      "None\n"
     ]
    }
   ],
   "source": [
    "\n",
    "txt = 'I love to teach python and javaScript'\n",
    "match = re.match('I like to teach', txt, re.I)\n",
    "print(match)  # None"
   ]
  },
  {
   "cell_type": "code",
   "execution_count": 6,
   "id": "dbad8724",
   "metadata": {},
   "outputs": [
    {
     "name": "stdout",
     "output_type": "stream",
     "text": [
      "<re.Match object; span=(100, 105), match='first'>\n",
      "(100, 105)\n",
      "100 105\n",
      "first\n"
     ]
    }
   ],
   "source": [
    "\n",
    "txt = '''Python is the most beautiful language that a human being has ever created.\n",
    "I recommend python for a first programming language'''\n",
    "\n",
    "# 它返回一个带有span和match的对象\n",
    "match = re.search('first', txt, re.I)\n",
    "print(match)  # <re.Match object; span=(100, 105), match='first'>\n",
    "# 我们可以使用span获取匹配的起始和结束位置，作为元组\n",
    "span = match.span()\n",
    "print(span)     # (100, 105)\n",
    "# 让我们从span中找到起始和结束位置\n",
    "start, end = span\n",
    "print(start, end)  # 100 105\n",
    "substring = txt[start:end]\n",
    "print(substring)       # first"
   ]
  },
  {
   "cell_type": "code",
   "execution_count": 7,
   "id": "68331f26",
   "metadata": {},
   "outputs": [
    {
     "name": "stdout",
     "output_type": "stream",
     "text": [
      "['language', 'language']\n"
     ]
    }
   ],
   "source": [
    "txt = '''Python is the most beautiful language that a human being has ever created.\n",
    "I recommend python for a first programming language'''\n",
    "\n",
    "# 它返回一个列表\n",
    "matches = re.findall('language', txt, re.I)\n",
    "print(matches)  # ['language', 'language']"
   ]
  },
  {
   "cell_type": "code",
   "execution_count": 9,
   "id": "d8af8a9b",
   "metadata": {},
   "outputs": [
    {
     "name": "stdout",
     "output_type": "stream",
     "text": [
      "['python']\n"
     ]
    }
   ],
   "source": [
    "txt = '''Python is the most beautiful language that a human being has ever created.\n",
    "I recommend python for a first programming language'''\n",
    "\n",
    "# 它返回一个列表\n",
    "matches = re.findall('python', txt)\n",
    "print(matches)  # ['Python', 'python']"
   ]
  },
  {
   "cell_type": "code",
   "execution_count": 10,
   "id": "c2b506b4",
   "metadata": {},
   "outputs": [
    {
     "name": "stdout",
     "output_type": "stream",
     "text": [
      "['Python', 'python']\n",
      "['Python', 'python']\n"
     ]
    }
   ],
   "source": [
    "txt = '''Python is the most beautiful language that a human being has ever created.\n",
    "I recommend python for a first programming language'''\n",
    "\n",
    "matches = re.findall('Python|python', txt)\n",
    "print(matches)  # ['Python', 'python']\n",
    "\n",
    "#\n",
    "matches = re.findall('[Pp]ython', txt)\n",
    "print(matches)  # ['Python', 'python']\n"
   ]
  },
  {
   "cell_type": "code",
   "execution_count": 12,
   "id": "39be4a39",
   "metadata": {},
   "outputs": [
    {
     "name": "stdout",
     "output_type": "stream",
     "text": [
      "JavaScript is the most beautiful language that a human being has ever created.\n",
      "I recommend JavaScript for a first programming language\n",
      "JavaScript is the most beautiful language that a human being has ever created.\n",
      "I recommend JavaScript for a first programming language\n"
     ]
    }
   ],
   "source": [
    "txt = '''Python is the most beautiful language that a human being has ever created.\n",
    "I recommend python for a first programming language'''\n",
    "\n",
    "match_replaced = re.sub('Python|python', 'JavaScript', txt)\n",
    "print(match_replaced)  # JavaScript is the most beautiful language that a human being has ever created.\n",
    "# 或者\n",
    "match_replaced = re.sub('[Pp]ython', 'JavaScript', txt)\n",
    "print(match_replaced)  # JavaScript is the most beautiful language that a human being has ever created."
   ]
  },
  {
   "cell_type": "code",
   "execution_count": 13,
   "id": "a9888b0c",
   "metadata": {},
   "outputs": [
    {
     "name": "stdout",
     "output_type": "stream",
     "text": [
      "I am teacher and  I love teaching. \n",
      "There is nothing as rewarding as educating and empowering people.\n",
      "I found teaching more interesting than any other jobs. \n",
      "Does this motivate you to be a teacher?\n"
     ]
    }
   ],
   "source": [
    "\n",
    "txt = '''%I a%m te%%a%%che%r% a%n%d %% I l%o%ve te%ach%ing. \n",
    "T%he%re i%s n%o%th%ing as r%ewarding a%s e%duc%at%i%ng a%n%d e%m%p%ow%er%ing p%e%o%ple.\n",
    "I fo%und te%a%ching m%ore i%n%t%er%%es%ting t%h%an any other %jobs. \n",
    "D%o%es thi%s m%ot%iv%a%te %y%o%u to b%e a t%e%a%cher?'''\n",
    "\n",
    "matches = re.sub('%', '', txt)\n",
    "print(matches)"
   ]
  },
  {
   "cell_type": "code",
   "execution_count": 14,
   "id": "aa0b1b11",
   "metadata": {},
   "outputs": [
    {
     "name": "stdout",
     "output_type": "stream",
     "text": [
      "['I am teacher and  I love teaching.', 'There is nothing as rewarding as educating and empowering people.', 'I found teaching more interesting than any other jobs.', 'Does this motivate you to be a teacher?']\n"
     ]
    }
   ],
   "source": [
    "txt = '''I am teacher and  I love teaching.\n",
    "There is nothing as rewarding as educating and empowering people.\n",
    "I found teaching more interesting than any other jobs.\n",
    "Does this motivate you to be a teacher?'''\n",
    "print(re.split('\\n', txt)) # 使用\\n分割 - 行尾符号"
   ]
  },
  {
   "cell_type": "code",
   "execution_count": 16,
   "id": "76954649",
   "metadata": {},
   "outputs": [
    {
     "name": "stdout",
     "output_type": "stream",
     "text": [
      "['apple']\n",
      "['Apple', 'apple']\n",
      "['Apple', 'apple']\n"
     ]
    }
   ],
   "source": [
    "\n",
    "regex_pattern = r'apple'\n",
    "txt = 'Apple and banana are fruits. An old cliche says an apple a day a doctor way has been replaced by a banana a day keeps the doctor far far away. '\n",
    "matches = re.findall(regex_pattern, txt)\n",
    "print(matches)  # ['apple']\n",
    "\n",
    "# 要使其不区分大小写，添加标志'\n",
    "matches = re.findall(regex_pattern, txt, re.I)\n",
    "print(matches)  # ['Apple', 'apple']\n",
    "# 或者我们可以使用一组字符方法\n",
    "regex_pattern = '[Aa]pple'  # 这意味着第一个字母可以是Apple或apple\n",
    "matches = re.findall(regex_pattern, txt)\n",
    "print(matches)  # ['Apple', 'apple']\n"
   ]
  },
  {
   "cell_type": "code",
   "execution_count": null,
   "id": "c75e8a4d",
   "metadata": {},
   "outputs": [
    {
     "name": "stdout",
     "output_type": "stream",
     "text": [
      "['Apple', 'banana', 'apple', 'banana']\n"
     ]
    }
   ],
   "source": [
    "regex_pattern = r'[Aa]pple|[Bb]anana' # 这意味着Apple或apple或Banana或banana\n",
    "txt = 'Apple and banana are fruits. An old cliche says an apple a day a doctor way has been replaced by a banana a day keeps the doctor far far away.'\n",
    "matches = re.findall(regex_pattern, txt)\n",
    "print(matches)  # ['Apple', 'banana', 'apple', 'banana']"
   ]
  },
  {
   "cell_type": "code",
   "execution_count": null,
   "id": "5145b679",
   "metadata": {},
   "outputs": [
    {
     "name": "stdout",
     "output_type": "stream",
     "text": [
      "['A', 'p', 'p', 'l', 'e', 'a', 'n', 'd', 'b', 'a', 'n', 'a', 'n', 'a', 'a', 'r', 'e', 'f', 'r', 'u', 'i', 't', 's', 'A', 'n', 'o', 'l', 'd', 'c', 'l', 'i', 'c', 'h', 'e', 's', 'a', 'y', 's', 'a', 'n', 'a', 'p', 'p', 'l', 'e', 'a', 'd', 'a', 'y', 'a', 'd', 'o', 'c', 't', 'o', 'r', 'w', 'a', 'y', 'h', 'a', 's', 'b', 'e', 'e', 'n', 'r', 'e', 'p', 'l', 'a', 'c', 'e', 'd', 'b', 'y', 'a', 'b', 'a', 'n', 'a', 'n', 'a', 'a', 'd', 'a', 'y', 'k', 'e', 'e', 'p', 's', 't', 'h', 'e', 'd', 'o', 'c', 't', 'o', 'r', 'f', 'a', 'r', 'f', 'a', 'r', 'a', 'w', 'a', 'y']\n"
     ]
    }
   ],
   "source": [
    "regex_pattern = r'[a-zA-Z0-9]'  # 这个方括号表示 a 到 z, A 到 Z, 0 到 9\n",
    "txt = 'Apple and banana are fruits. An old cliche says an apple a day a doctor way has been replaced by a banana a day keeps the doctor far far away.'\n",
    "matches = re.findall(regex_pattern, txt)\n",
    "print(matches)  # ['A', 'p', 'p', 'l', 'e', 'a', 'n', 'd', 'b', 'a', 'n', 'a', 'n', 'a', 'a', 'r', 'e',...]"
   ]
  },
  {
   "cell_type": "code",
   "execution_count": 23,
   "id": "6bd7ac17",
   "metadata": {},
   "outputs": [
    {
     "name": "stdout",
     "output_type": "stream",
     "text": [
      "['6', '2', '0', '1', '9', '8', '2', '0', '2', '1']\n"
     ]
    }
   ],
   "source": [
    "\n",
    "regex_pattern = r'\\d'  # d 是一个特殊字符，表示数字\n",
    "txt = 'This regular expression example was made on December 6,  2019 and revised on July 8, 2021'\n",
    "matches = re.findall(regex_pattern, txt)\n",
    "print(matches)  # ['6', '2', '0', '1', '9', '8', '2', '0', '2', '1']"
   ]
  },
  {
   "cell_type": "code",
   "execution_count": 24,
   "id": "520b0c23",
   "metadata": {},
   "outputs": [
    {
     "name": "stdout",
     "output_type": "stream",
     "text": [
      "['6', '2019', '8', '2021']\n"
     ]
    }
   ],
   "source": [
    "\n",
    "regex_pattern = r'\\d+'  # d 是一个特殊字符，表示数字，+ 表示一个或多个\n",
    "txt = 'This regular expression example was made on December 6,  2019 and revised on July 8, 2021'\n",
    "matches = re.findall(regex_pattern, txt)\n",
    "print(matches)  # ['6', '2019', '8', '2021']"
   ]
  },
  {
   "cell_type": "code",
   "execution_count": 25,
   "id": "f0faefa2",
   "metadata": {},
   "outputs": [
    {
     "name": "stdout",
     "output_type": "stream",
     "text": [
      "['an', 'an', 'an', 'a ', 'ar']\n",
      "['and banana are fruits']\n"
     ]
    }
   ],
   "source": [
    "regex_pattern = r'[a].'  # 这个方括号表示 a 和 . 表示任何字符，除了新行\n",
    "txt = '''Apple and banana are fruits'''\n",
    "matches = re.findall(regex_pattern, txt)\n",
    "print(matches)  # ['an', 'an', 'an', 'a ', 'ar']\n",
    "\n",
    "regex_pattern = r'[a].+'  # . 任何字符，+ 任何字符一次或多次\n",
    "matches = re.findall(regex_pattern, txt)\n",
    "print(matches)  # ['and banana are fruits']"
   ]
  },
  {
   "cell_type": "code",
   "execution_count": 26,
   "id": "b978dfd0",
   "metadata": {},
   "outputs": [
    {
     "name": "stdout",
     "output_type": "stream",
     "text": [
      "['and banana are fruits']\n"
     ]
    }
   ],
   "source": [
    "regex_pattern = r'[a].*'  # . 任何字符，* 任何字符零次或多次\n",
    "txt = '''Apple and banana are fruits'''\n",
    "matches = re.findall(regex_pattern, txt)\n",
    "print(matches)  # ['and banana are fruits']"
   ]
  },
  {
   "cell_type": "code",
   "execution_count": 27,
   "id": "b7378216",
   "metadata": {},
   "outputs": [
    {
     "name": "stdout",
     "output_type": "stream",
     "text": [
      "['e-mail', 'email', 'Email', 'E-mail']\n"
     ]
    }
   ],
   "source": [
    "txt = '''I am not sure if there is a convention how to write the word e-mail.\n",
    "Some people write it as email others may write it as Email or E-mail.'''\n",
    "regex_pattern = r'[Ee]-?mail'  # ? 表示零次或一次\n",
    "matches = re.findall(regex_pattern, txt)\n",
    "print(matches)  # ['e-mail', 'email', 'Email', 'E-mail']"
   ]
  },
  {
   "cell_type": "code",
   "execution_count": 29,
   "id": "8dc262b5",
   "metadata": {},
   "outputs": [
    {
     "name": "stdout",
     "output_type": "stream",
     "text": [
      "['2019', '2021']\n",
      "['6', '2019', '8', '2021', '22']\n"
     ]
    }
   ],
   "source": [
    "txt = 'This regular expression example was made on December 6,  2019 and revised on July 8, 2021'\n",
    "regex_pattern = r'\\d{4}'  # 正好有四位数的数字\n",
    "matches = re.findall(regex_pattern, txt)\n",
    "print(matches)  # ['2019', '2021']\n",
    "\n",
    "txt = 'This regular expression example was made on December 6,  2019 and revised on July 8, 2021.My age is 22.'\n",
    "regex_pattern = r'\\d{1,4}'   # 1到4位数的数字\n",
    "matches = re.findall(regex_pattern, txt)\n",
    "print(matches)  # ['6', '2019', '8', '2021']"
   ]
  },
  {
   "cell_type": "code",
   "execution_count": 33,
   "id": "2e5df73b",
   "metadata": {},
   "outputs": [
    {
     "name": "stdout",
     "output_type": "stream",
     "text": [
      "['This']\n"
     ]
    }
   ],
   "source": [
    "txt = 'This regular expression Thistle example was made on December 6,  2019 and revised on July 8, 2021'\n",
    "regex_pattern = r'^This'  # ^ 表示以 This 开始\n",
    "matches = re.findall(regex_pattern, txt)\n",
    "print(matches)  # ['This']"
   ]
  },
  {
   "cell_type": "code",
   "execution_count": 36,
   "id": "063a5eab",
   "metadata": {},
   "outputs": [
    {
     "name": "stdout",
     "output_type": "stream",
     "text": [
      "['6,', '2019', '8,', '2021']\n"
     ]
    }
   ],
   "source": [
    "txt = 'This regular expression example was made on December 6,  2019 and revised on July 8, 2021'\n",
    "regex_pattern = r'[^A-Za-z ]+'  # ^ 在方括号内表示否定，不是A-Z，不是a-z，不是空格\n",
    "matches = re.findall(regex_pattern, txt)\n",
    "print(matches)  # ['6,', '2019', '8,', '2021']"
   ]
  },
  {
   "cell_type": "code",
   "execution_count": 45,
   "id": "2848c1eb",
   "metadata": {},
   "outputs": [],
   "source": [
    "paragraph = 'I love teaching. If you do not love teaching what else can you love. I love Python if you do not love something which can give you all the capabilities to develop an application what else can you love.'\n",
    "words = re.findall(r'\\b\\w+\\b', paragraph.lower())"
   ]
  },
  {
   "cell_type": "code",
   "execution_count": 46,
   "id": "c264b1c9",
   "metadata": {},
   "outputs": [
    {
     "data": {
      "text/plain": [
       "39"
      ]
     },
     "execution_count": 46,
     "metadata": {},
     "output_type": "execute_result"
    }
   ],
   "source": [
    "len(words)"
   ]
  },
  {
   "cell_type": "code",
   "execution_count": 47,
   "id": "46480551",
   "metadata": {},
   "outputs": [
    {
     "data": {
      "text/plain": [
       "['i',\n",
       " 'love',\n",
       " 'teaching',\n",
       " 'if',\n",
       " 'you',\n",
       " 'do',\n",
       " 'not',\n",
       " 'love',\n",
       " 'teaching',\n",
       " 'what',\n",
       " 'else',\n",
       " 'can',\n",
       " 'you',\n",
       " 'love',\n",
       " 'i',\n",
       " 'love',\n",
       " 'python',\n",
       " 'if',\n",
       " 'you',\n",
       " 'do',\n",
       " 'not',\n",
       " 'love',\n",
       " 'something',\n",
       " 'which',\n",
       " 'can',\n",
       " 'give',\n",
       " 'you',\n",
       " 'all',\n",
       " 'the',\n",
       " 'capabilities',\n",
       " 'to',\n",
       " 'develop',\n",
       " 'an',\n",
       " 'application',\n",
       " 'what',\n",
       " 'else',\n",
       " 'can',\n",
       " 'you',\n",
       " 'love']"
      ]
     },
     "execution_count": 47,
     "metadata": {},
     "output_type": "execute_result"
    }
   ],
   "source": [
    "words"
   ]
  },
  {
   "cell_type": "code",
   "execution_count": 48,
   "id": "6e17f6f3",
   "metadata": {},
   "outputs": [],
   "source": [
    "from collections import defaultdict\n",
    "words_dict = defaultdict(int)\n",
    "for word in words:\n",
    "    words_dict[word] += 1"
   ]
  },
  {
   "cell_type": "code",
   "execution_count": 49,
   "id": "264cad50",
   "metadata": {},
   "outputs": [
    {
     "data": {
      "text/plain": [
       "defaultdict(int,\n",
       "            {'i': 2,\n",
       "             'love': 6,\n",
       "             'teaching': 2,\n",
       "             'if': 2,\n",
       "             'you': 5,\n",
       "             'do': 2,\n",
       "             'not': 2,\n",
       "             'what': 2,\n",
       "             'else': 2,\n",
       "             'can': 3,\n",
       "             'python': 1,\n",
       "             'something': 1,\n",
       "             'which': 1,\n",
       "             'give': 1,\n",
       "             'all': 1,\n",
       "             'the': 1,\n",
       "             'capabilities': 1,\n",
       "             'to': 1,\n",
       "             'develop': 1,\n",
       "             'an': 1,\n",
       "             'application': 1})"
      ]
     },
     "execution_count": 49,
     "metadata": {},
     "output_type": "execute_result"
    }
   ],
   "source": [
    "words_dict"
   ]
  },
  {
   "cell_type": "code",
   "execution_count": 51,
   "id": "7fad5529",
   "metadata": {},
   "outputs": [
    {
     "data": {
      "text/plain": [
       "['love',\n",
       " 'you',\n",
       " 'can',\n",
       " 'i',\n",
       " 'teaching',\n",
       " 'if',\n",
       " 'do',\n",
       " 'not',\n",
       " 'what',\n",
       " 'else',\n",
       " 'python',\n",
       " 'something',\n",
       " 'which',\n",
       " 'give',\n",
       " 'all',\n",
       " 'the',\n",
       " 'capabilities',\n",
       " 'to',\n",
       " 'develop',\n",
       " 'an',\n",
       " 'application']"
      ]
     },
     "execution_count": 51,
     "metadata": {},
     "output_type": "execute_result"
    }
   ],
   "source": [
    "words_freq = sorted(words_dict,key=lambda x:words_dict[x],reverse=True)\n",
    "words_freq"
   ]
  },
  {
   "cell_type": "code",
   "execution_count": 52,
   "id": "50255666",
   "metadata": {},
   "outputs": [],
   "source": [
    "words_freq = [(words_dict[word],word) for word in words_freq]"
   ]
  },
  {
   "cell_type": "code",
   "execution_count": 53,
   "id": "5dcbb6eb",
   "metadata": {},
   "outputs": [
    {
     "data": {
      "text/plain": [
       "[(6, 'love'),\n",
       " (5, 'you'),\n",
       " (3, 'can'),\n",
       " (2, 'i'),\n",
       " (2, 'teaching'),\n",
       " (2, 'if'),\n",
       " (2, 'do'),\n",
       " (2, 'not'),\n",
       " (2, 'what'),\n",
       " (2, 'else'),\n",
       " (1, 'python'),\n",
       " (1, 'something'),\n",
       " (1, 'which'),\n",
       " (1, 'give'),\n",
       " (1, 'all'),\n",
       " (1, 'the'),\n",
       " (1, 'capabilities'),\n",
       " (1, 'to'),\n",
       " (1, 'develop'),\n",
       " (1, 'an'),\n",
       " (1, 'application')]"
      ]
     },
     "execution_count": 53,
     "metadata": {},
     "output_type": "execute_result"
    }
   ],
   "source": [
    "words_freq"
   ]
  },
  {
   "cell_type": "code",
   "execution_count": 54,
   "id": "6857f18b",
   "metadata": {},
   "outputs": [
    {
     "data": {
      "text/plain": [
       "defaultdict(int,\n",
       "            {'i': 2,\n",
       "             'love': 6,\n",
       "             'teaching': 2,\n",
       "             'if': 2,\n",
       "             'you': 5,\n",
       "             'do': 2,\n",
       "             'not': 2,\n",
       "             'what': 2,\n",
       "             'else': 2,\n",
       "             'can': 3,\n",
       "             'python': 1,\n",
       "             'something': 1,\n",
       "             'which': 1,\n",
       "             'give': 1,\n",
       "             'all': 1,\n",
       "             'the': 1,\n",
       "             'capabilities': 1,\n",
       "             'to': 1,\n",
       "             'develop': 1,\n",
       "             'an': 1,\n",
       "             'application': 1})"
      ]
     },
     "execution_count": 54,
     "metadata": {},
     "output_type": "execute_result"
    }
   ],
   "source": [
    "words_dict"
   ]
  },
  {
   "cell_type": "code",
   "execution_count": 55,
   "id": "b0e876ef",
   "metadata": {},
   "outputs": [
    {
     "data": {
      "text/plain": [
       "dict_items([('i', 2), ('love', 6), ('teaching', 2), ('if', 2), ('you', 5), ('do', 2), ('not', 2), ('what', 2), ('else', 2), ('can', 3), ('python', 1), ('something', 1), ('which', 1), ('give', 1), ('all', 1), ('the', 1), ('capabilities', 1), ('to', 1), ('develop', 1), ('an', 1), ('application', 1)])"
      ]
     },
     "execution_count": 55,
     "metadata": {},
     "output_type": "execute_result"
    }
   ],
   "source": [
    "words_dict.items()"
   ]
  },
  {
   "cell_type": "code",
   "execution_count": 56,
   "id": "41c13bda",
   "metadata": {},
   "outputs": [
    {
     "name": "stdout",
     "output_type": "stream",
     "text": [
      "[('love', 6), ('you', 5), ('can', 3), ('i', 2), ('teaching', 2), ('if', 2), ('do', 2), ('not', 2), ('what', 2), ('else', 2), ('python', 1), ('something', 1), ('which', 1), ('give', 1), ('all', 1), ('the', 1), ('capabilities', 1), ('to', 1), ('develop', 1), ('an', 1), ('application', 1)]\n"
     ]
    }
   ],
   "source": [
    "\n",
    "\n",
    "# Step 3: Sort by frequency (value) in descending order\n",
    "words_freq = sorted(words_dict.items(), key=lambda x: x[1], reverse=True)\n",
    "\n",
    "# Step 4: Print the sorted list of tuples (frequency, word)\n",
    "print(words_freq)\n"
   ]
  },
  {
   "cell_type": "code",
   "execution_count": 65,
   "id": "0214d597",
   "metadata": {},
   "outputs": [
    {
     "name": "stdout",
     "output_type": "stream",
     "text": [
      "True\n",
      "False\n",
      "False\n",
      "False\n",
      "True\n"
     ]
    }
   ],
   "source": [
    "\n",
    "def is_valid_variable(name):\n",
    "    # Regular expression to match a valid Python variable\n",
    "    pattern = r'^[A-Za-z_]\\w*$'\n",
    "    return bool(re.match(pattern, name))\n",
    "\n",
    "# Test cases\n",
    "print(is_valid_variable('first_name'))  # True\n",
    "print(is_valid_variable('first-name'))  # False\n",
    "print(is_valid_variable('first_name!'))\n",
    "print(is_valid_variable('1first_name'))  # False\n",
    "print(is_valid_variable('firstname'))  # True\n"
   ]
  },
  {
   "cell_type": "code",
   "execution_count": 63,
   "id": "a31cc4c9",
   "metadata": {},
   "outputs": [
    {
     "name": "stdout",
     "output_type": "stream",
     "text": [
      "None\n"
     ]
    }
   ],
   "source": [
    "print(re.match('love','I love python'))"
   ]
  },
  {
   "cell_type": "code",
   "execution_count": 70,
   "id": "3021268e",
   "metadata": {},
   "outputs": [
    {
     "name": "stdout",
     "output_type": "stream",
     "text": [
      "I am a teacher and I love teaching There is nothing as more rewarding as educating and empowering people I found teaching more interesting than any other jobs Does this motivate you to be a teacher\n"
     ]
    }
   ],
   "source": [
    "sentence = '''%I $am@% a %tea@cher%, &and& I lo%#ve %tea@ching%;. There $is nothing; &as& mo@re rewarding as educa@ting &and& @emp%o@wering peo@ple. ;I found tea@ching m%o@re interesting tha@n any other %jo@bs. %Do@es thi%s mo@tivate yo@u to be a tea@cher!?'''\n",
    "\n",
    "# 使用正则表达式清理特殊字符\n",
    "cleaned_sentence = re.sub(r'[^a-zA-Z\\s]', '', sentence)\n",
    "\n",
    "print(cleaned_sentence)\n"
   ]
  },
  {
   "cell_type": "code",
   "execution_count": 72,
   "id": "d79f7907",
   "metadata": {},
   "outputs": [],
   "source": [
    "words_lst = cleaned_sentence.split()"
   ]
  },
  {
   "cell_type": "code",
   "execution_count": 74,
   "id": "6bc74806",
   "metadata": {},
   "outputs": [
    {
     "name": "stdout",
     "output_type": "stream",
     "text": [
      "[('love', 6), ('you', 5), ('can', 3), ('i', 2), ('teaching', 2), ('if', 2), ('do', 2), ('not', 2), ('what', 2), ('else', 2), ('python', 1), ('something', 1), ('which', 1), ('give', 1), ('all', 1), ('the', 1), ('capabilities', 1), ('to', 1), ('develop', 1), ('an', 1), ('application', 1)]\n"
     ]
    }
   ],
   "source": [
    "words_dict = defaultdict(int)\n",
    "for word in words:\n",
    "    words_dict[word]+=1\n",
    "print(sorted(words_dict.items(),key=lambda x:x[1],reverse=True))"
   ]
  },
  {
   "cell_type": "code",
   "execution_count": null,
   "id": "d5fe2540",
   "metadata": {},
   "outputs": [],
   "source": []
  }
 ],
 "metadata": {
  "kernelspec": {
   "display_name": "Python 3",
   "language": "python",
   "name": "python3"
  },
  "language_info": {
   "codemirror_mode": {
    "name": "ipython",
    "version": 3
   },
   "file_extension": ".py",
   "mimetype": "text/x-python",
   "name": "python",
   "nbconvert_exporter": "python",
   "pygments_lexer": "ipython3",
   "version": "3.13.3"
  }
 },
 "nbformat": 4,
 "nbformat_minor": 5
}
