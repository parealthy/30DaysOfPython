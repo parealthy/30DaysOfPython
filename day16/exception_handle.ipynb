{
 "cells": [
  {
   "cell_type": "code",
   "execution_count": 1,
   "id": "7e2dfb8b",
   "metadata": {},
   "outputs": [],
   "source": [
    "import datetime"
   ]
  },
  {
   "cell_type": "code",
   "execution_count": 2,
   "id": "16561724",
   "metadata": {},
   "outputs": [
    {
     "name": "stdout",
     "output_type": "stream",
     "text": [
      "Help on module datetime:\n",
      "\n",
      "NAME\n",
      "    datetime - Fast implementation of the datetime type.\n",
      "\n",
      "MODULE REFERENCE\n",
      "    https://docs.python.org/3.13/library/datetime.html\n",
      "\n",
      "    The following documentation is automatically generated from the Python\n",
      "    source files.  It may be incomplete, incorrect or include features that\n",
      "    are considered implementation detail and may vary between Python\n",
      "    implementations.  When in doubt, consult the module reference at the\n",
      "    location listed above.\n",
      "\n",
      "CLASSES\n",
      "    builtins.object\n",
      "        date\n",
      "            datetime\n",
      "        time\n",
      "        timedelta\n",
      "        tzinfo\n",
      "            timezone\n",
      "\n",
      "    class date(builtins.object)\n",
      "     |  date(year, month, day) --> date object\n",
      "     |\n",
      "     |  Methods defined here:\n",
      "     |\n",
      "     |  __add__(self, value, /)\n",
      "     |      Return self+value.\n",
      "     |\n",
      "     |  __eq__(self, value, /)\n",
      "     |      Return self==value.\n",
      "     |\n",
      "     |  __format__(...)\n",
      "     |      Formats self with strftime.\n",
      "     |\n",
      "     |  __ge__(self, value, /)\n",
      "     |      Return self>=value.\n",
      "     |\n",
      "     |  __gt__(self, value, /)\n",
      "     |      Return self>value.\n",
      "     |\n",
      "     |  __hash__(self, /)\n",
      "     |      Return hash(self).\n",
      "     |\n",
      "     |  __le__(self, value, /)\n",
      "     |      Return self<=value.\n",
      "     |\n",
      "     |  __lt__(self, value, /)\n",
      "     |      Return self<value.\n",
      "     |\n",
      "     |  __ne__(self, value, /)\n",
      "     |      Return self!=value.\n",
      "     |\n",
      "     |  __radd__(self, value, /)\n",
      "     |      Return value+self.\n",
      "     |\n",
      "     |  __reduce__(self, /)\n",
      "     |      __reduce__() -> (cls, state)\n",
      "     |\n",
      "     |  __replace__(self, /, **changes)\n",
      "     |      The same as replace().\n",
      "     |\n",
      "     |  __repr__(self, /)\n",
      "     |      Return repr(self).\n",
      "     |\n",
      "     |  __rsub__(self, value, /)\n",
      "     |      Return value-self.\n",
      "     |\n",
      "     |  __str__(self, /)\n",
      "     |      Return str(self).\n",
      "     |\n",
      "     |  __sub__(self, value, /)\n",
      "     |      Return self-value.\n",
      "     |\n",
      "     |  ctime(self, /)\n",
      "     |      Return ctime() style string.\n",
      "     |\n",
      "     |  isocalendar(self, /)\n",
      "     |      Return a named tuple containing ISO year, week number, and weekday.\n",
      "     |\n",
      "     |  isoformat(self, /)\n",
      "     |      Return string in ISO 8601 format, YYYY-MM-DD.\n",
      "     |\n",
      "     |  isoweekday(self, /)\n",
      "     |      Return the day of the week represented by the date.\n",
      "     |      Monday == 1 ... Sunday == 7\n",
      "     |\n",
      "     |  replace(self, /, year=unchanged, month=unchanged, day=unchanged)\n",
      "     |      Return date with new specified fields.\n",
      "     |\n",
      "     |  strftime(...)\n",
      "     |      format -> strftime() style string.\n",
      "     |\n",
      "     |  timetuple(self, /)\n",
      "     |      Return time tuple, compatible with time.localtime().\n",
      "     |\n",
      "     |  toordinal(self, /)\n",
      "     |      Return proleptic Gregorian ordinal.  January 1 of year 1 is day 1.\n",
      "     |\n",
      "     |  weekday(self, /)\n",
      "     |      Return the day of the week represented by the date.\n",
      "     |      Monday == 0 ... Sunday == 6\n",
      "     |\n",
      "     |  ----------------------------------------------------------------------\n",
      "     |  Class methods defined here:\n",
      "     |\n",
      "     |  fromisocalendar(...)\n",
      "     |      int, int, int -> Construct a date from the ISO year, week number and weekday.\n",
      "     |\n",
      "     |      This is the inverse of the date.isocalendar() function\n",
      "     |\n",
      "     |  fromisoformat(object, /)\n",
      "     |      str -> Construct a date from a string in ISO 8601 format.\n",
      "     |\n",
      "     |  fromordinal(...)\n",
      "     |      int -> date corresponding to a proleptic Gregorian ordinal.\n",
      "     |\n",
      "     |  fromtimestamp(timestamp, /)\n",
      "     |      Create a date from a POSIX timestamp.\n",
      "     |\n",
      "     |      The timestamp is a number, e.g. created via time.time(), that is interpreted\n",
      "     |      as local time.\n",
      "     |\n",
      "     |  today()\n",
      "     |      Current date or datetime:  same as self.__class__.fromtimestamp(time.time()).\n",
      "     |\n",
      "     |  ----------------------------------------------------------------------\n",
      "     |  Static methods defined here:\n",
      "     |\n",
      "     |  __new__(*args, **kwargs)\n",
      "     |      Create and return a new object.  See help(type) for accurate signature.\n",
      "     |\n",
      "     |  ----------------------------------------------------------------------\n",
      "     |  Data descriptors defined here:\n",
      "     |\n",
      "     |  day\n",
      "     |\n",
      "     |  month\n",
      "     |\n",
      "     |  year\n",
      "     |\n",
      "     |  ----------------------------------------------------------------------\n",
      "     |  Data and other attributes defined here:\n",
      "     |\n",
      "     |  max = datetime.date(9999, 12, 31)\n",
      "     |\n",
      "     |  min = datetime.date(1, 1, 1)\n",
      "     |\n",
      "     |  resolution = datetime.timedelta(days=1)\n",
      "\n",
      "    class datetime(date)\n",
      "     |  datetime(year, month, day[, hour[, minute[, second[, microsecond[,tzinfo]]]]])\n",
      "     |\n",
      "     |  The year, month and day arguments are required. tzinfo may be None, or an\n",
      "     |  instance of a tzinfo subclass. The remaining arguments may be ints.\n",
      "     |\n",
      "     |  Method resolution order:\n",
      "     |      datetime\n",
      "     |      date\n",
      "     |      builtins.object\n",
      "     |\n",
      "     |  Methods defined here:\n",
      "     |\n",
      "     |  __add__(self, value, /)\n",
      "     |      Return self+value.\n",
      "     |\n",
      "     |  __eq__(self, value, /)\n",
      "     |      Return self==value.\n",
      "     |\n",
      "     |  __ge__(self, value, /)\n",
      "     |      Return self>=value.\n",
      "     |\n",
      "     |  __gt__(self, value, /)\n",
      "     |      Return self>value.\n",
      "     |\n",
      "     |  __hash__(self, /)\n",
      "     |      Return hash(self).\n",
      "     |\n",
      "     |  __le__(self, value, /)\n",
      "     |      Return self<=value.\n",
      "     |\n",
      "     |  __lt__(self, value, /)\n",
      "     |      Return self<value.\n",
      "     |\n",
      "     |  __ne__(self, value, /)\n",
      "     |      Return self!=value.\n",
      "     |\n",
      "     |  __radd__(self, value, /)\n",
      "     |      Return value+self.\n",
      "     |\n",
      "     |  __reduce__(self, /)\n",
      "     |      __reduce__() -> (cls, state)\n",
      "     |\n",
      "     |  __reduce_ex__(...)\n",
      "     |      __reduce_ex__(proto) -> (cls, state)\n",
      "     |\n",
      "     |  __replace__(self, /, **changes)\n",
      "     |      The same as replace().\n",
      "     |\n",
      "     |  __repr__(self, /)\n",
      "     |      Return repr(self).\n",
      "     |\n",
      "     |  __rsub__(self, value, /)\n",
      "     |      Return value-self.\n",
      "     |\n",
      "     |  __str__(self, /)\n",
      "     |      Return str(self).\n",
      "     |\n",
      "     |  __sub__(self, value, /)\n",
      "     |      Return self-value.\n",
      "     |\n",
      "     |  astimezone(...)\n",
      "     |      tz -> convert to local time in new timezone tz\n",
      "     |\n",
      "     |  ctime(self, /)\n",
      "     |      Return ctime() style string.\n",
      "     |\n",
      "     |  date(self, /)\n",
      "     |      Return date object with same year, month and day.\n",
      "     |\n",
      "     |  dst(self, /)\n",
      "     |      Return self.tzinfo.dst(self).\n",
      "     |\n",
      "     |  isoformat(...)\n",
      "     |      [sep] -> string in ISO 8601 format, YYYY-MM-DDT[HH[:MM[:SS[.mmm[uuu]]]]][+HH:MM].\n",
      "     |      sep is used to separate the year from the time, and defaults to 'T'.\n",
      "     |      The optional argument timespec specifies the number of additional terms\n",
      "     |      of the time to include. Valid options are 'auto', 'hours', 'minutes',\n",
      "     |      'seconds', 'milliseconds' and 'microseconds'.\n",
      "     |\n",
      "     |  replace(self, /, year=unchanged, month=unchanged, day=unchanged,\n",
      "     |          hour=unchanged, minute=unchanged, second=unchanged,\n",
      "     |          microsecond=unchanged, tzinfo=unchanged, *, fold=unchanged)\n",
      "     |      Return datetime with new specified fields.\n",
      "     |\n",
      "     |  time(self, /)\n",
      "     |      Return time object with same time but with tzinfo=None.\n",
      "     |\n",
      "     |  timestamp(self, /)\n",
      "     |      Return POSIX timestamp as float.\n",
      "     |\n",
      "     |  timetuple(self, /)\n",
      "     |      Return time tuple, compatible with time.localtime().\n",
      "     |\n",
      "     |  timetz(self, /)\n",
      "     |      Return time object with same time and tzinfo.\n",
      "     |\n",
      "     |  tzname(self, /)\n",
      "     |      Return self.tzinfo.tzname(self).\n",
      "     |\n",
      "     |  utcoffset(self, /)\n",
      "     |      Return self.tzinfo.utcoffset(self).\n",
      "     |\n",
      "     |  utctimetuple(self, /)\n",
      "     |      Return UTC time tuple, compatible with time.localtime().\n",
      "     |\n",
      "     |  ----------------------------------------------------------------------\n",
      "     |  Class methods defined here:\n",
      "     |\n",
      "     |  combine(...)\n",
      "     |      date, time -> datetime with same date and time fields\n",
      "     |\n",
      "     |  fromisoformat(object, /)\n",
      "     |      string -> datetime from a string in most ISO 8601 formats\n",
      "     |\n",
      "     |  fromtimestamp(...)\n",
      "     |      timestamp[, tz] -> tz's local time from POSIX timestamp.\n",
      "     |\n",
      "     |  now(tz=None)\n",
      "     |      Returns new datetime object representing current time local to tz.\n",
      "     |\n",
      "     |        tz\n",
      "     |          Timezone object.\n",
      "     |\n",
      "     |      If no tz is specified, uses local timezone.\n",
      "     |\n",
      "     |  strptime(...)\n",
      "     |      string, format -> new datetime parsed from a string (like time.strptime()).\n",
      "     |\n",
      "     |  utcfromtimestamp(...)\n",
      "     |      Construct a naive UTC datetime from a POSIX timestamp.\n",
      "     |\n",
      "     |  utcnow()\n",
      "     |      Return a new datetime representing UTC day and time.\n",
      "     |\n",
      "     |  ----------------------------------------------------------------------\n",
      "     |  Static methods defined here:\n",
      "     |\n",
      "     |  __new__(*args, **kwargs)\n",
      "     |      Create and return a new object.  See help(type) for accurate signature.\n",
      "     |\n",
      "     |  ----------------------------------------------------------------------\n",
      "     |  Data descriptors defined here:\n",
      "     |\n",
      "     |  fold\n",
      "     |\n",
      "     |  hour\n",
      "     |\n",
      "     |  microsecond\n",
      "     |\n",
      "     |  minute\n",
      "     |\n",
      "     |  second\n",
      "     |\n",
      "     |  tzinfo\n",
      "     |\n",
      "     |  ----------------------------------------------------------------------\n",
      "     |  Data and other attributes defined here:\n",
      "     |\n",
      "     |  max = datetime.datetime(9999, 12, 31, 23, 59, 59, 999999)\n",
      "     |\n",
      "     |  min = datetime.datetime(1, 1, 1, 0, 0)\n",
      "     |\n",
      "     |  resolution = datetime.timedelta(microseconds=1)\n",
      "     |\n",
      "     |  ----------------------------------------------------------------------\n",
      "     |  Methods inherited from date:\n",
      "     |\n",
      "     |  __format__(...)\n",
      "     |      Formats self with strftime.\n",
      "     |\n",
      "     |  isocalendar(self, /)\n",
      "     |      Return a named tuple containing ISO year, week number, and weekday.\n",
      "     |\n",
      "     |  isoweekday(self, /)\n",
      "     |      Return the day of the week represented by the date.\n",
      "     |      Monday == 1 ... Sunday == 7\n",
      "     |\n",
      "     |  strftime(...)\n",
      "     |      format -> strftime() style string.\n",
      "     |\n",
      "     |  toordinal(self, /)\n",
      "     |      Return proleptic Gregorian ordinal.  January 1 of year 1 is day 1.\n",
      "     |\n",
      "     |  weekday(self, /)\n",
      "     |      Return the day of the week represented by the date.\n",
      "     |      Monday == 0 ... Sunday == 6\n",
      "     |\n",
      "     |  ----------------------------------------------------------------------\n",
      "     |  Class methods inherited from date:\n",
      "     |\n",
      "     |  fromisocalendar(...)\n",
      "     |      int, int, int -> Construct a date from the ISO year, week number and weekday.\n",
      "     |\n",
      "     |      This is the inverse of the date.isocalendar() function\n",
      "     |\n",
      "     |  fromordinal(...)\n",
      "     |      int -> date corresponding to a proleptic Gregorian ordinal.\n",
      "     |\n",
      "     |  today()\n",
      "     |      Current date or datetime:  same as self.__class__.fromtimestamp(time.time()).\n",
      "     |\n",
      "     |  ----------------------------------------------------------------------\n",
      "     |  Data descriptors inherited from date:\n",
      "     |\n",
      "     |  day\n",
      "     |\n",
      "     |  month\n",
      "     |\n",
      "     |  year\n",
      "\n",
      "    class time(builtins.object)\n",
      "     |  time([hour[, minute[, second[, microsecond[, tzinfo]]]]]) --> a time object\n",
      "     |\n",
      "     |  All arguments are optional. tzinfo may be None, or an instance of\n",
      "     |  a tzinfo subclass. The remaining arguments may be ints.\n",
      "     |\n",
      "     |  Methods defined here:\n",
      "     |\n",
      "     |  __eq__(self, value, /)\n",
      "     |      Return self==value.\n",
      "     |\n",
      "     |  __format__(...)\n",
      "     |      Formats self with strftime.\n",
      "     |\n",
      "     |  __ge__(self, value, /)\n",
      "     |      Return self>=value.\n",
      "     |\n",
      "     |  __gt__(self, value, /)\n",
      "     |      Return self>value.\n",
      "     |\n",
      "     |  __hash__(self, /)\n",
      "     |      Return hash(self).\n",
      "     |\n",
      "     |  __le__(self, value, /)\n",
      "     |      Return self<=value.\n",
      "     |\n",
      "     |  __lt__(self, value, /)\n",
      "     |      Return self<value.\n",
      "     |\n",
      "     |  __ne__(self, value, /)\n",
      "     |      Return self!=value.\n",
      "     |\n",
      "     |  __reduce__(self, /)\n",
      "     |      __reduce__() -> (cls, state)\n",
      "     |\n",
      "     |  __reduce_ex__(...)\n",
      "     |      __reduce_ex__(proto) -> (cls, state)\n",
      "     |\n",
      "     |  __replace__(self, /, **changes)\n",
      "     |      The same as replace().\n",
      "     |\n",
      "     |  __repr__(self, /)\n",
      "     |      Return repr(self).\n",
      "     |\n",
      "     |  __str__(self, /)\n",
      "     |      Return str(self).\n",
      "     |\n",
      "     |  dst(self, /)\n",
      "     |      Return self.tzinfo.dst(self).\n",
      "     |\n",
      "     |  isoformat(...)\n",
      "     |      Return string in ISO 8601 format, [HH[:MM[:SS[.mmm[uuu]]]]][+HH:MM].\n",
      "     |\n",
      "     |      The optional argument timespec specifies the number of additional terms\n",
      "     |      of the time to include. Valid options are 'auto', 'hours', 'minutes',\n",
      "     |      'seconds', 'milliseconds' and 'microseconds'.\n",
      "     |\n",
      "     |  replace(self, /, hour=unchanged, minute=unchanged, second=unchanged,\n",
      "     |          microsecond=unchanged, tzinfo=unchanged, *, fold=unchanged)\n",
      "     |      Return time with new specified fields.\n",
      "     |\n",
      "     |  strftime(...)\n",
      "     |      format -> strftime() style string.\n",
      "     |\n",
      "     |  tzname(self, /)\n",
      "     |      Return self.tzinfo.tzname(self).\n",
      "     |\n",
      "     |  utcoffset(self, /)\n",
      "     |      Return self.tzinfo.utcoffset(self).\n",
      "     |\n",
      "     |  ----------------------------------------------------------------------\n",
      "     |  Class methods defined here:\n",
      "     |\n",
      "     |  fromisoformat(object, /)\n",
      "     |      string -> time from a string in ISO 8601 format\n",
      "     |\n",
      "     |  ----------------------------------------------------------------------\n",
      "     |  Static methods defined here:\n",
      "     |\n",
      "     |  __new__(*args, **kwargs)\n",
      "     |      Create and return a new object.  See help(type) for accurate signature.\n",
      "     |\n",
      "     |  ----------------------------------------------------------------------\n",
      "     |  Data descriptors defined here:\n",
      "     |\n",
      "     |  fold\n",
      "     |\n",
      "     |  hour\n",
      "     |\n",
      "     |  microsecond\n",
      "     |\n",
      "     |  minute\n",
      "     |\n",
      "     |  second\n",
      "     |\n",
      "     |  tzinfo\n",
      "     |\n",
      "     |  ----------------------------------------------------------------------\n",
      "     |  Data and other attributes defined here:\n",
      "     |\n",
      "     |  max = datetime.time(23, 59, 59, 999999)\n",
      "     |\n",
      "     |  min = datetime.time(0, 0)\n",
      "     |\n",
      "     |  resolution = datetime.timedelta(microseconds=1)\n",
      "\n",
      "    class timedelta(builtins.object)\n",
      "     |  Difference between two datetime values.\n",
      "     |\n",
      "     |  timedelta(days=0, seconds=0, microseconds=0, milliseconds=0, minutes=0, hours=0, weeks=0)\n",
      "     |\n",
      "     |  All arguments are optional and default to 0.\n",
      "     |  Arguments may be integers or floats, and may be positive or negative.\n",
      "     |\n",
      "     |  Methods defined here:\n",
      "     |\n",
      "     |  __abs__(self, /)\n",
      "     |      abs(self)\n",
      "     |\n",
      "     |  __add__(self, value, /)\n",
      "     |      Return self+value.\n",
      "     |\n",
      "     |  __bool__(self, /)\n",
      "     |      True if self else False\n",
      "     |\n",
      "     |  __divmod__(self, value, /)\n",
      "     |      Return divmod(self, value).\n",
      "     |\n",
      "     |  __eq__(self, value, /)\n",
      "     |      Return self==value.\n",
      "     |\n",
      "     |  __floordiv__(self, value, /)\n",
      "     |      Return self//value.\n",
      "     |\n",
      "     |  __ge__(self, value, /)\n",
      "     |      Return self>=value.\n",
      "     |\n",
      "     |  __gt__(self, value, /)\n",
      "     |      Return self>value.\n",
      "     |\n",
      "     |  __hash__(self, /)\n",
      "     |      Return hash(self).\n",
      "     |\n",
      "     |  __le__(self, value, /)\n",
      "     |      Return self<=value.\n",
      "     |\n",
      "     |  __lt__(self, value, /)\n",
      "     |      Return self<value.\n",
      "     |\n",
      "     |  __mod__(self, value, /)\n",
      "     |      Return self%value.\n",
      "     |\n",
      "     |  __mul__(self, value, /)\n",
      "     |      Return self*value.\n",
      "     |\n",
      "     |  __ne__(self, value, /)\n",
      "     |      Return self!=value.\n",
      "     |\n",
      "     |  __neg__(self, /)\n",
      "     |      -self\n",
      "     |\n",
      "     |  __pos__(self, /)\n",
      "     |      +self\n",
      "     |\n",
      "     |  __radd__(self, value, /)\n",
      "     |      Return value+self.\n",
      "     |\n",
      "     |  __rdivmod__(self, value, /)\n",
      "     |      Return divmod(value, self).\n",
      "     |\n",
      "     |  __reduce__(self, /)\n",
      "     |      __reduce__() -> (cls, state)\n",
      "     |\n",
      "     |  __repr__(self, /)\n",
      "     |      Return repr(self).\n",
      "     |\n",
      "     |  __rfloordiv__(self, value, /)\n",
      "     |      Return value//self.\n",
      "     |\n",
      "     |  __rmod__(self, value, /)\n",
      "     |      Return value%self.\n",
      "     |\n",
      "     |  __rmul__(self, value, /)\n",
      "     |      Return value*self.\n",
      "     |\n",
      "     |  __rsub__(self, value, /)\n",
      "     |      Return value-self.\n",
      "     |\n",
      "     |  __rtruediv__(self, value, /)\n",
      "     |      Return value/self.\n",
      "     |\n",
      "     |  __str__(self, /)\n",
      "     |      Return str(self).\n",
      "     |\n",
      "     |  __sub__(self, value, /)\n",
      "     |      Return self-value.\n",
      "     |\n",
      "     |  __truediv__(self, value, /)\n",
      "     |      Return self/value.\n",
      "     |\n",
      "     |  total_seconds(self, /)\n",
      "     |      Total seconds in the duration.\n",
      "     |\n",
      "     |  ----------------------------------------------------------------------\n",
      "     |  Static methods defined here:\n",
      "     |\n",
      "     |  __new__(*args, **kwargs)\n",
      "     |      Create and return a new object.  See help(type) for accurate signature.\n",
      "     |\n",
      "     |  ----------------------------------------------------------------------\n",
      "     |  Data descriptors defined here:\n",
      "     |\n",
      "     |  days\n",
      "     |      Number of days.\n",
      "     |\n",
      "     |  microseconds\n",
      "     |      Number of microseconds (>= 0 and less than 1 second).\n",
      "     |\n",
      "     |  seconds\n",
      "     |      Number of seconds (>= 0 and less than 1 day).\n",
      "     |\n",
      "     |  ----------------------------------------------------------------------\n",
      "     |  Data and other attributes defined here:\n",
      "     |\n",
      "     |  max = datetime.timedelta(days=999999999, seconds=86399, microseconds=9...\n",
      "     |\n",
      "     |  min = datetime.timedelta(days=-999999999)\n",
      "     |\n",
      "     |  resolution = datetime.timedelta(microseconds=1)\n",
      "\n",
      "    class timezone(tzinfo)\n",
      "     |  Fixed offset from UTC implementation of tzinfo.\n",
      "     |\n",
      "     |  Method resolution order:\n",
      "     |      timezone\n",
      "     |      tzinfo\n",
      "     |      builtins.object\n",
      "     |\n",
      "     |  Methods defined here:\n",
      "     |\n",
      "     |  __eq__(self, value, /)\n",
      "     |      Return self==value.\n",
      "     |\n",
      "     |  __ge__(self, value, /)\n",
      "     |      Return self>=value.\n",
      "     |\n",
      "     |  __getinitargs__(self, /)\n",
      "     |      pickle support\n",
      "     |\n",
      "     |  __gt__(self, value, /)\n",
      "     |      Return self>value.\n",
      "     |\n",
      "     |  __hash__(self, /)\n",
      "     |      Return hash(self).\n",
      "     |\n",
      "     |  __le__(self, value, /)\n",
      "     |      Return self<=value.\n",
      "     |\n",
      "     |  __lt__(self, value, /)\n",
      "     |      Return self<value.\n",
      "     |\n",
      "     |  __ne__(self, value, /)\n",
      "     |      Return self!=value.\n",
      "     |\n",
      "     |  __repr__(self, /)\n",
      "     |      Return repr(self).\n",
      "     |\n",
      "     |  __str__(self, /)\n",
      "     |      Return str(self).\n",
      "     |\n",
      "     |  dst(self, object, /)\n",
      "     |      Return None.\n",
      "     |\n",
      "     |  fromutc(self, object, /)\n",
      "     |      datetime in UTC -> datetime in local time.\n",
      "     |\n",
      "     |  tzname(self, object, /)\n",
      "     |      If name is specified when timezone is created, returns the name.  Otherwise returns offset as 'UTC(+|-)HH:MM'.\n",
      "     |\n",
      "     |  utcoffset(self, object, /)\n",
      "     |      Return fixed offset.\n",
      "     |\n",
      "     |  ----------------------------------------------------------------------\n",
      "     |  Static methods defined here:\n",
      "     |\n",
      "     |  __new__(*args, **kwargs)\n",
      "     |      Create and return a new object.  See help(type) for accurate signature.\n",
      "     |\n",
      "     |  ----------------------------------------------------------------------\n",
      "     |  Data and other attributes defined here:\n",
      "     |\n",
      "     |  max = datetime.timezone(datetime.timedelta(seconds=86340))\n",
      "     |\n",
      "     |  min = datetime.timezone(datetime.timedelta(days=-1, seconds=60))\n",
      "     |\n",
      "     |  utc = datetime.timezone.utc\n",
      "     |\n",
      "     |  ----------------------------------------------------------------------\n",
      "     |  Methods inherited from tzinfo:\n",
      "     |\n",
      "     |  __reduce__(self, /)\n",
      "     |      -> (cls, state)\n",
      "\n",
      "    class tzinfo(builtins.object)\n",
      "     |  Abstract base class for time zone info objects.\n",
      "     |\n",
      "     |  Methods defined here:\n",
      "     |\n",
      "     |  __reduce__(self, /)\n",
      "     |      -> (cls, state)\n",
      "     |\n",
      "     |  dst(self, object, /)\n",
      "     |      datetime -> DST offset as timedelta positive east of UTC.\n",
      "     |\n",
      "     |  fromutc(self, object, /)\n",
      "     |      datetime in UTC -> datetime in local time.\n",
      "     |\n",
      "     |  tzname(self, object, /)\n",
      "     |      datetime -> string name of time zone.\n",
      "     |\n",
      "     |  utcoffset(self, object, /)\n",
      "     |      datetime -> timedelta showing offset from UTC, negative values indicating West of UTC\n",
      "     |\n",
      "     |  ----------------------------------------------------------------------\n",
      "     |  Static methods defined here:\n",
      "     |\n",
      "     |  __new__(*args, **kwargs)\n",
      "     |      Create and return a new object.  See help(type) for accurate signature.\n",
      "\n",
      "DATA\n",
      "    MAXYEAR = 9999\n",
      "    MINYEAR = 1\n",
      "    UTC = datetime.timezone.utc\n",
      "    __all__ = ('date', 'datetime', 'time', 'timedelta', 'timezone', 'tzinf...\n",
      "\n",
      "FILE\n",
      "    /Library/Frameworks/Python.framework/Versions/3.13/lib/python3.13/datetime.py\n",
      "\n",
      "\n"
     ]
    }
   ],
   "source": [
    "help(datetime)"
   ]
  },
  {
   "cell_type": "code",
   "execution_count": 3,
   "id": "59c67a3b",
   "metadata": {},
   "outputs": [
    {
     "name": "stdout",
     "output_type": "stream",
     "text": [
      "出现了一些错误\n"
     ]
    }
   ],
   "source": [
    "try:\n",
    "    name = input('输入你的名字:')\n",
    "    year_born = input('你出生的年份:')\n",
    "    age = 2019 - year_born\n",
    "    print(f'你是{name}. 你的年龄是{age}.')\n",
    "except:\n",
    "    print('出现了一些错误')"
   ]
  },
  {
   "cell_type": "code",
   "execution_count": 4,
   "id": "ba79cda7",
   "metadata": {},
   "outputs": [
    {
     "name": "stdout",
     "output_type": "stream",
     "text": [
      "发生了类型错误\n"
     ]
    }
   ],
   "source": [
    "try:\n",
    "    name = input('输入你的名字:')\n",
    "    year_born = input('你出生的年份:')\n",
    "    age = 2019 - year_born\n",
    "    print(f'你是{name}. 你的年龄是{age}.')\n",
    "except TypeError:\n",
    "    print('发生了类型错误')\n",
    "except ValueError:\n",
    "    print('发生了值错误')\n",
    "except ZeroDivisionError:\n",
    "    print('发生了除零错误')"
   ]
  },
  {
   "cell_type": "code",
   "execution_count": 6,
   "id": "f8ccaf85",
   "metadata": {},
   "outputs": [
    {
     "name": "stdout",
     "output_type": "stream",
     "text": [
      "你是zhudi. 你的年龄是17.\n",
      "我通常与try块一起运行\n",
      "我总是运行。\n"
     ]
    }
   ],
   "source": [
    "try:\n",
    "    name = input('输入你的名字:')\n",
    "    year_born = input('你出生的年份:')\n",
    "    age = 2019 - int(year_born)\n",
    "    print(f'你是{name}. 你的年龄是{age}.')\n",
    "except TypeError:\n",
    "    print('发生了类型错误')\n",
    "except ValueError:\n",
    "    print('发生了值错误')\n",
    "except ZeroDivisionError:\n",
    "    print('发生了除零错误')\n",
    "else:\n",
    "    print('我通常与try块一起运行')\n",
    "finally:\n",
    "    print('我总是运行。')"
   ]
  },
  {
   "cell_type": "code",
   "execution_count": 10,
   "id": "996b91e8",
   "metadata": {},
   "outputs": [
    {
     "name": "stdout",
     "output_type": "stream",
     "text": [
      "unsupported operand type(s) for -: 'int' and 'str'\n"
     ]
    }
   ],
   "source": [
    "try:\n",
    "    name = input('输入你的名字:')\n",
    "    year_born = input('你出生的年份:')\n",
    "    age = 2019 - year_born\n",
    "    print(f'你是{name}. 你的年龄是{age}.')\n",
    "except Exception as e:\n",
    "    print(e)"
   ]
  },
  {
   "cell_type": "code",
   "execution_count": 11,
   "id": "e324c406",
   "metadata": {},
   "outputs": [
    {
     "name": "stdout",
     "output_type": "stream",
     "text": [
      "Finland Sweden Norway ['Denmark', 'Iceland']\n"
     ]
    }
   ],
   "source": [
    "countries = ['Finland', 'Sweden', 'Norway', 'Denmark', 'Iceland']\n",
    "fin, sw, nor, *rest = countries\n",
    "print(fin, sw, nor, rest)"
   ]
  },
  {
   "cell_type": "code",
   "execution_count": null,
   "id": "4a7d7726",
   "metadata": {},
   "outputs": [
    {
     "ename": "SyntaxError",
     "evalue": "can't use starred expression here (3463092375.py, line 4)",
     "output_type": "error",
     "traceback": [
      "  \u001b[36mCell\u001b[39m\u001b[36m \u001b[39m\u001b[32mIn[14]\u001b[39m\u001b[32m, line 4\u001b[39m\n\u001b[31m    \u001b[39m\u001b[31mname,country,city,age = *dct\u001b[39m\n                            ^\n\u001b[31mSyntaxError\u001b[39m\u001b[31m:\u001b[39m can't use starred expression here\n"
     ]
    }
   ],
   "source": [
    "def unpacking_person_info(name, country, city, age):\n",
    "    return f'{name}住在{country}的{city}。他{age}岁。'\n",
    "dct = {'name':'Asabeneh', 'country':'Finland', 'city':'Helsinki', 'age':250}\n"
   ]
  },
  {
   "cell_type": "code",
   "execution_count": 15,
   "id": "3d95a2f3",
   "metadata": {},
   "outputs": [
    {
     "data": {
      "text/plain": [
       "{'name': 'Asabeneh', 'country': 'Finland', 'city': 'Helsinki', 'age': 250}"
      ]
     },
     "execution_count": 15,
     "metadata": {},
     "output_type": "execute_result"
    }
   ],
   "source": [
    "dct"
   ]
  },
  {
   "cell_type": "code",
   "execution_count": 16,
   "id": "b0c3f498",
   "metadata": {},
   "outputs": [
    {
     "data": {
      "text/plain": [
       "(1, 2, 3)"
      ]
     },
     "execution_count": 16,
     "metadata": {},
     "output_type": "execute_result"
    }
   ],
   "source": [
    "dct = {'name':'Asabeneh', 'country':'Finland', 'city':'Helsinki', 'age':250}\n",
    "numbers = [1,2,3]\n",
    "x,y,z= numbers\n",
    "x,y,z"
   ]
  },
  {
   "cell_type": "code",
   "execution_count": 17,
   "id": "6a44dfe3",
   "metadata": {},
   "outputs": [
    {
     "data": {
      "text/plain": [
       "int"
      ]
     },
     "execution_count": 17,
     "metadata": {},
     "output_type": "execute_result"
    }
   ],
   "source": [
    "type(x)"
   ]
  },
  {
   "cell_type": "code",
   "execution_count": 19,
   "id": "33e1ea35",
   "metadata": {},
   "outputs": [
    {
     "name": "stdout",
     "output_type": "stream",
     "text": [
      "Asabeneh住在Finland的Helsinki。他250岁。\n"
     ]
    }
   ],
   "source": [
    "def unpacking_person_info(name, country, city, age):\n",
    "    return f'{name}住在{country}的{city}。他{age}岁。'\n",
    "dct = {'name':'Asabeneh', 'country':'Finland', 'city':'Helsinki', 'age':250}\n",
    "print(unpacking_person_info(**dct)) # Asabeneh住在Finland的Helsinki。他250岁。"
   ]
  },
  {
   "cell_type": "code",
   "execution_count": 20,
   "id": "2a876606",
   "metadata": {},
   "outputs": [
    {
     "name": "stdout",
     "output_type": "stream",
     "text": [
      "<class 'tuple'>\n",
      "6\n",
      "<class 'tuple'>\n",
      "28\n"
     ]
    }
   ],
   "source": [
    "def sum_all(*args):\n",
    "    print(type(args))\n",
    "    s = 0\n",
    "    for i in args:\n",
    "        s += i\n",
    "    return s\n",
    "print(sum_all(1, 2, 3))             # 6\n",
    "print(sum_all(1, 2, 3, 4, 5, 6, 7)) # 28"
   ]
  },
  {
   "cell_type": "code",
   "execution_count": 21,
   "id": "f28fd9aa",
   "metadata": {},
   "outputs": [
    {
     "data": {
      "text/plain": [
       "{'name': 'Asabeneh', 'country': 'Finland', 'city': 'Helsinki', 'age': 250}"
      ]
     },
     "execution_count": 21,
     "metadata": {},
     "output_type": "execute_result"
    }
   ],
   "source": [
    "dct"
   ]
  },
  {
   "cell_type": "code",
   "execution_count": 22,
   "id": "50ea242b",
   "metadata": {},
   "outputs": [
    {
     "ename": "SyntaxError",
     "evalue": "can't use starred expression here (2741982943.py, line 1)",
     "output_type": "error",
     "traceback": [
      "  \u001b[36mCell\u001b[39m\u001b[36m \u001b[39m\u001b[32mIn[22]\u001b[39m\u001b[32m, line 1\u001b[39m\n\u001b[31m    \u001b[39m\u001b[31m*dct\u001b[39m\n    ^\n\u001b[31mSyntaxError\u001b[39m\u001b[31m:\u001b[39m can't use starred expression here\n"
     ]
    }
   ],
   "source": [
    "*dct"
   ]
  },
  {
   "cell_type": "code",
   "execution_count": 23,
   "id": "c906cef4",
   "metadata": {},
   "outputs": [
    {
     "ename": "SyntaxError",
     "evalue": "invalid syntax (4223465767.py, line 1)",
     "output_type": "error",
     "traceback": [
      "  \u001b[36mCell\u001b[39m\u001b[36m \u001b[39m\u001b[32mIn[23]\u001b[39m\u001b[32m, line 1\u001b[39m\n\u001b[31m    \u001b[39m\u001b[31m**dct\u001b[39m\n    ^\n\u001b[31mSyntaxError\u001b[39m\u001b[31m:\u001b[39m invalid syntax\n"
     ]
    }
   ],
   "source": [
    "**dct"
   ]
  },
  {
   "cell_type": "code",
   "execution_count": 24,
   "id": "90f65b91",
   "metadata": {},
   "outputs": [
    {
     "name": "stdout",
     "output_type": "stream",
     "text": [
      "<class 'dict'>\n",
      "name = Asabeneh\n",
      "country = Finland\n",
      "city = Helsinki\n",
      "age = 250\n",
      "{'name': 'Asabeneh', 'country': 'Finland', 'city': 'Helsinki', 'age': 250}\n"
     ]
    }
   ],
   "source": [
    "def packing_person_info(**kwargs):\n",
    "    # 检查kwargs的类型，它是一个字典类型\n",
    "    print(type(kwargs))\n",
    "    # 打印字典项\n",
    "    for key in kwargs:\n",
    "        print(f\"{key} = {kwargs[key]}\")\n",
    "    return kwargs\n",
    "\n",
    "print(packing_person_info(name=\"Asabeneh\",\n",
    "      country=\"Finland\", city=\"Helsinki\", age=250))"
   ]
  },
  {
   "cell_type": "code",
   "execution_count": 25,
   "id": "7fe058e0",
   "metadata": {},
   "outputs": [
    {
     "name": "stdout",
     "output_type": "stream",
     "text": [
      "Help on class enumerate in module builtins:\n",
      "\n",
      "class enumerate(object)\n",
      " |  enumerate(iterable, start=0)\n",
      " |\n",
      " |  Return an enumerate object.\n",
      " |\n",
      " |    iterable\n",
      " |      an object supporting iteration\n",
      " |\n",
      " |  The enumerate object yields pairs containing a count (from start, which\n",
      " |  defaults to zero) and a value yielded by the iterable argument.\n",
      " |\n",
      " |  enumerate is useful for obtaining an indexed list:\n",
      " |      (0, seq[0]), (1, seq[1]), (2, seq[2]), ...\n",
      " |\n",
      " |  Methods defined here:\n",
      " |\n",
      " |  __getattribute__(self, name, /)\n",
      " |      Return getattr(self, name).\n",
      " |\n",
      " |  __iter__(self, /)\n",
      " |      Implement iter(self).\n",
      " |\n",
      " |  __next__(self, /)\n",
      " |      Implement next(self).\n",
      " |\n",
      " |  __reduce__(self, /)\n",
      " |      Return state information for pickling.\n",
      " |\n",
      " |  ----------------------------------------------------------------------\n",
      " |  Class methods defined here:\n",
      " |\n",
      " |  __class_getitem__(object, /)\n",
      " |      See PEP 585\n",
      " |\n",
      " |  ----------------------------------------------------------------------\n",
      " |  Static methods defined here:\n",
      " |\n",
      " |  __new__(*args, **kwargs)\n",
      " |      Create and return a new object.  See help(type) for accurate signature.\n",
      "\n"
     ]
    }
   ],
   "source": [
    "help(enumerate)"
   ]
  },
  {
   "cell_type": "code",
   "execution_count": 26,
   "id": "559c1c75",
   "metadata": {},
   "outputs": [
    {
     "name": "stdout",
     "output_type": "stream",
     "text": [
      "[0, 1, 2, 3, 4, 5, 6, 7]\n"
     ]
    }
   ],
   "source": [
    "lst_one = [1, 2, 3]\n",
    "lst_two = [4, 5, 6, 7]\n",
    "lst = [0, *lst_one, *lst_two]\n",
    "print(lst)          # [0, 1, 2, 3, 4, 5, 6, 7]"
   ]
  },
  {
   "cell_type": "code",
   "execution_count": 28,
   "id": "bd831c0d",
   "metadata": {},
   "outputs": [
    {
     "data": {
      "text/plain": [
       "enumerate"
      ]
     },
     "execution_count": 28,
     "metadata": {},
     "output_type": "execute_result"
    }
   ],
   "source": [
    "type(enumerate(lst))"
   ]
  },
  {
   "cell_type": "code",
   "execution_count": 29,
   "id": "a1be0af1",
   "metadata": {},
   "outputs": [
    {
     "data": {
      "text/plain": [
       "['Finland', 'Sweden', 'Norway', 'Denmark', 'Iceland']"
      ]
     },
     "execution_count": 29,
     "metadata": {},
     "output_type": "execute_result"
    }
   ],
   "source": [
    "countries"
   ]
  },
  {
   "cell_type": "code",
   "execution_count": 33,
   "id": "7b1a361f",
   "metadata": {},
   "outputs": [
    {
     "data": {
      "text/plain": [
       "dict_items([('name', 'Asabeneh'), ('country', 'Finland'), ('city', 'Helsinki'), ('age', 250)])"
      ]
     },
     "execution_count": 33,
     "metadata": {},
     "output_type": "execute_result"
    }
   ],
   "source": [
    "dct.items()"
   ]
  },
  {
   "cell_type": "code",
   "execution_count": 37,
   "id": "32353a4f",
   "metadata": {},
   "outputs": [
    {
     "name": "stdout",
     "output_type": "stream",
     "text": [
      "[{'fruit': 'banana', 'veg': 'Tomato'}, {'fruit': 'orange', 'veg': 'Potato'}, {'fruit': 'mango', 'veg': 'Cabbage'}, {'fruit': 'lemon', 'veg': 'Onion'}, {'fruit': 'lime', 'veg': 'Carrot'}]\n"
     ]
    }
   ],
   "source": [
    "fruits = ['banana', 'orange', 'mango', 'lemon', 'lime']                    \n",
    "vegetables = ['Tomato', 'Potato', 'Cabbage','Onion', 'Carrot']\n",
    "fruits_and_vegs = []\n",
    "for (f,v) in zip(fruits,vegetables):\n",
    "    fruits_and_vegs.append({'fruit':f,'veg':v})\n",
    "print(fruits_and_vegs)"
   ]
  },
  {
   "cell_type": "code",
   "execution_count": 38,
   "id": "b60d259b",
   "metadata": {},
   "outputs": [
    {
     "data": {
      "text/plain": [
       "{'name': 'Asabeneh', 'country': 'Finland', 'city': 'Helsinki', 'age': 250}"
      ]
     },
     "execution_count": 38,
     "metadata": {},
     "output_type": "execute_result"
    }
   ],
   "source": [
    "dct"
   ]
  },
  {
   "cell_type": "code",
   "execution_count": 41,
   "id": "a28831c6",
   "metadata": {},
   "outputs": [
    {
     "name": "stdout",
     "output_type": "stream",
     "text": [
      "0 name\n",
      "1 country\n",
      "2 city\n",
      "3 age\n",
      "name Asabeneh\n",
      "country Finland\n",
      "city Helsinki\n",
      "age 250\n"
     ]
    }
   ],
   "source": [
    "for index,key in enumerate(dct):\n",
    "    print(index,key)\n",
    "for key,value in dct.items():\n",
    "    print(key,value)"
   ]
  },
  {
   "cell_type": "code",
   "execution_count": null,
   "id": "9e968b74",
   "metadata": {},
   "outputs": [],
   "source": []
  }
 ],
 "metadata": {
  "kernelspec": {
   "display_name": "Python 3",
   "language": "python",
   "name": "python3"
  },
  "language_info": {
   "codemirror_mode": {
    "name": "ipython",
    "version": 3
   },
   "file_extension": ".py",
   "mimetype": "text/x-python",
   "name": "python",
   "nbconvert_exporter": "python",
   "pygments_lexer": "ipython3",
   "version": "3.13.3"
  }
 },
 "nbformat": 4,
 "nbformat_minor": 5
}
