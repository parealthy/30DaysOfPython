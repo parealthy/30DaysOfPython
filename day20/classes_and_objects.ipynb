{
 "cells": [
  {
   "cell_type": "code",
   "execution_count": 1,
   "id": "633597c3",
   "metadata": {},
   "outputs": [
    {
     "name": "stdout",
     "output_type": "stream",
     "text": [
      "<__main__.Person object at 0x11345c590>\n",
      "<class '__main__.Person'>\n"
     ]
    }
   ],
   "source": [
    "class Person:\n",
    "  pass\n",
    "p = Person()\n",
    "print(p)\n",
    "print(Person)"
   ]
  },
  {
   "cell_type": "code",
   "execution_count": 2,
   "id": "84cd1f21",
   "metadata": {},
   "outputs": [
    {
     "name": "stdout",
     "output_type": "stream",
     "text": [
      "Asabeneh Yetayeh今年250岁。他住在Finland的Helsinki。\n",
      "John Doe今年30岁。他住在Nomanland的Noman city。\n",
      "['HTML', 'CSS', 'JavaScript']\n",
      "[]\n"
     ]
    }
   ],
   "source": [
    "class Person:\n",
    "      def __init__(self, firstname='Asabeneh', lastname='Yetayeh', age=250, country='Finland', city='Helsinki'):\n",
    "          self.firstname = firstname\n",
    "          self.lastname = lastname\n",
    "          self.age = age\n",
    "          self.country = country\n",
    "          self.city = city\n",
    "          self.skills = []\n",
    "\n",
    "      def person_info(self):\n",
    "        return f'{self.firstname} {self.lastname}今年{self.age}岁。他住在{self.country}的{self.city}。'\n",
    "      def add_skill(self, skill):\n",
    "          self.skills.append(skill)\n",
    "\n",
    "p1 = Person()\n",
    "print(p1.person_info())\n",
    "p1.add_skill('HTML')\n",
    "p1.add_skill('CSS')\n",
    "p1.add_skill('JavaScript')\n",
    "p2 = Person('John', 'Doe', 30, 'Nomanland', 'Noman city')\n",
    "print(p2.person_info())\n",
    "print(p1.skills)\n",
    "print(p2.skills)"
   ]
  },
  {
   "cell_type": "code",
   "execution_count": 4,
   "id": "97060d12",
   "metadata": {},
   "outputs": [
    {
     "name": "stdout",
     "output_type": "stream",
     "text": [
      "Eyob Yetayeh今年30岁。他住在Finland的Helsinki。\n",
      "['JavaScript', 'React', 'Python']\n",
      "Lidiya Teklemariam今年28岁。她住在Finland的Espoo。\n",
      "['Organizing', 'Marketing', 'Digital Marketing']\n"
     ]
    }
   ],
   "source": [
    "class Student(Person):\n",
    "    def __init__(self, firstname='Asabeneh', lastname='Yetayeh', age=250, country='Finland', city='Helsinki',\n",
    "                 gender = 'male'):\n",
    "        super().__init__(firstname, lastname, age, country, city)\n",
    "        self.gender = gender\n",
    "\n",
    "    def person_info(self):\n",
    "        gender = '他' if self.gender == 'male' else '她'\n",
    "        return f'{self.firstname} {self.lastname}今年{self.age}岁。{gender}住在{self.country}的{self.city}。'\n",
    "\n",
    "s1 = Student('Eyob', 'Yetayeh', 30, 'Finland', 'Helsinki','male')\n",
    "s2 = Student('Lidiya', 'Teklemariam', 28, 'Finland', 'Espoo','female')\n",
    "print(s1.person_info())\n",
    "s1.add_skill('JavaScript')\n",
    "s1.add_skill('React')\n",
    "s1.add_skill('Python')\n",
    "print(s1.skills)\n",
    "print(s2.person_info())\n",
    "s2.add_skill('Organizing')\n",
    "s2.add_skill('Marketing')\n",
    "s2.add_skill('Digital Marketing')\n",
    "print(s2.skills)"
   ]
  },
  {
   "cell_type": "code",
   "execution_count": 8,
   "id": "21156db0",
   "metadata": {},
   "outputs": [
    {
     "data": {
      "text/plain": [
       "[24,\n",
       " 24,\n",
       " 25,\n",
       " 26,\n",
       " 26,\n",
       " 26,\n",
       " 26,\n",
       " 26,\n",
       " 27,\n",
       " 27,\n",
       " 27,\n",
       " 27,\n",
       " 29,\n",
       " 31,\n",
       " 31,\n",
       " 32,\n",
       " 32,\n",
       " 32,\n",
       " 33,\n",
       " 33,\n",
       " 34,\n",
       " 34,\n",
       " 37,\n",
       " 37,\n",
       " 38]"
      ]
     },
     "execution_count": 8,
     "metadata": {},
     "output_type": "execute_result"
    }
   ],
   "source": [
    "ages = [31, 26, 34, 37, 27, 26, 32, 32, 26, 27, 27, 24, 32, 33, 27, 25, 26, 38, 37, 31, 34, 24, 33, 29, 26]\n",
    "ages.sort()\n",
    "ages"
   ]
  },
  {
   "cell_type": "code",
   "execution_count": 31,
   "id": "8b45dc1a",
   "metadata": {},
   "outputs": [],
   "source": [
    "from collections import Counter\n",
    "import math\n",
    "class Statistics:\n",
    "    def __init__(self, data=[]):\n",
    "        self.data = data\n",
    "\n",
    "    def count(self):\n",
    "        return len(self.data)\n",
    "    \n",
    "    def sum(self):\n",
    "        return sum(self.data)\n",
    "    \n",
    "    def min(self):\n",
    "        return min(self.data)\n",
    "    \n",
    "    def max(self):\n",
    "        return max(self.data)\n",
    "    \n",
    "    def range(self):\n",
    "        return self.max() - self.min()\n",
    "    \n",
    "    def mean(self):\n",
    "        return self.sum()/self.count()\n",
    "    \n",
    "    def median(self):\n",
    "        self.data.sort()\n",
    "        if self.count() % 2 == 1:\n",
    "            return self.data[self.count()//2]\n",
    "        else:\n",
    "            return (self.data(self.count()//2)+self.data(self.count()//2 - 1))/2\n",
    "    \n",
    "    def mode(self):\n",
    "        data = Counter(self.data)\n",
    "        return data.most_common(1)[0][0]\n",
    "    \n",
    "    def standard_deviation(self):\n",
    "        return math.sqrt(self.variance())\n",
    "    \n",
    "    def variance(self):\n",
    "        mean = self.mean()\n",
    "        std = 0\n",
    "        for num in self.data:\n",
    "            std += (num - mean)*(num-mean)\n",
    "        std = std / self.count()\n",
    "        return std\n",
    "    \n",
    "    def frequency_distribution(self):\n",
    "        freq = Counter(self.data)\n",
    "        total = self.count()\n",
    "        freq_dist = [(freq[key]/total*100,key) for key in freq]\n",
    "        return freq_dist\n",
    "    \n",
    "    def describe(self):\n",
    "        '''# you output should look like this\n",
    "        print(data.describe())\n",
    "        Count: 25\n",
    "        Sum:  744\n",
    "        Min:  24\n",
    "        Max:  38\n",
    "        Range:  14\n",
    "        Mean:  30\n",
    "        Median:  29\n",
    "        Mode:  (26, 5)\n",
    "        Variance:  17.5\n",
    "        Standard Deviation:  4.2\n",
    "        Frequency Distribution: [(20.0, 26), (16.0, 27), (12.0, 32), (8.0, 37), (8.0, 34), (8.0, 33), (8.0, 31), (8.0, 24), (4.0, 38), (4.0, 29), (4.0, 25)]'''\n",
    "        return f\"Count:{self.count()}\\nSum:{self.sum()}\\nMin:{self.min()}...\""
   ]
  },
  {
   "cell_type": "code",
   "execution_count": 9,
   "id": "b1ff0c02",
   "metadata": {},
   "outputs": [],
   "source": [
    "from collections import Counter"
   ]
  },
  {
   "cell_type": "code",
   "execution_count": 10,
   "id": "94de33ba",
   "metadata": {},
   "outputs": [],
   "source": [
    "ages = [31, 26, 34, 37, 27, 26, 32, 32, 26, 27, 27, 24, 32, 33, 27, 25, 26, 38, 37, 31, 34, 24, 33, 29, 26]\n",
    "data = Counter(ages)"
   ]
  },
  {
   "cell_type": "code",
   "execution_count": 11,
   "id": "4881407d",
   "metadata": {},
   "outputs": [
    {
     "data": {
      "text/plain": [
       "Counter({26: 5,\n",
       "         27: 4,\n",
       "         32: 3,\n",
       "         31: 2,\n",
       "         34: 2,\n",
       "         37: 2,\n",
       "         24: 2,\n",
       "         33: 2,\n",
       "         25: 1,\n",
       "         38: 1,\n",
       "         29: 1})"
      ]
     },
     "execution_count": 11,
     "metadata": {},
     "output_type": "execute_result"
    }
   ],
   "source": [
    "data"
   ]
  },
  {
   "cell_type": "code",
   "execution_count": 13,
   "id": "4537ff96",
   "metadata": {},
   "outputs": [
    {
     "data": {
      "text/plain": [
       "collections.Counter"
      ]
     },
     "execution_count": 13,
     "metadata": {},
     "output_type": "execute_result"
    }
   ],
   "source": [
    "type(data)"
   ]
  },
  {
   "cell_type": "code",
   "execution_count": 14,
   "id": "564c72f9",
   "metadata": {},
   "outputs": [
    {
     "data": {
      "text/plain": [
       "Counter({26: 5,\n",
       "         27: 4,\n",
       "         32: 3,\n",
       "         31: 2,\n",
       "         34: 2,\n",
       "         37: 2,\n",
       "         24: 2,\n",
       "         33: 2,\n",
       "         25: 1,\n",
       "         38: 1,\n",
       "         29: 1})"
      ]
     },
     "execution_count": 14,
     "metadata": {},
     "output_type": "execute_result"
    }
   ],
   "source": [
    "data"
   ]
  },
  {
   "cell_type": "code",
   "execution_count": 17,
   "id": "d440ff56",
   "metadata": {},
   "outputs": [
    {
     "data": {
      "text/plain": [
       "[(26, 5)]"
      ]
     },
     "execution_count": 17,
     "metadata": {},
     "output_type": "execute_result"
    }
   ],
   "source": [
    "data.most_common(1)"
   ]
  },
  {
   "cell_type": "code",
   "execution_count": 18,
   "id": "717a0709",
   "metadata": {},
   "outputs": [
    {
     "data": {
      "text/plain": [
       "Counter({26: 5,\n",
       "         27: 4,\n",
       "         32: 3,\n",
       "         31: 2,\n",
       "         34: 2,\n",
       "         37: 2,\n",
       "         24: 2,\n",
       "         33: 2,\n",
       "         25: 1,\n",
       "         38: 1,\n",
       "         29: 1})"
      ]
     },
     "execution_count": 18,
     "metadata": {},
     "output_type": "execute_result"
    }
   ],
   "source": [
    "data"
   ]
  },
  {
   "cell_type": "code",
   "execution_count": 19,
   "id": "145d7df6",
   "metadata": {},
   "outputs": [
    {
     "data": {
      "text/plain": [
       "dict_items([(31, 2), (26, 5), (34, 2), (37, 2), (27, 4), (32, 3), (24, 2), (33, 2), (25, 1), (38, 1), (29, 1)])"
      ]
     },
     "execution_count": 19,
     "metadata": {},
     "output_type": "execute_result"
    }
   ],
   "source": [
    "data.items()"
   ]
  },
  {
   "cell_type": "code",
   "execution_count": 32,
   "id": "d3b0416f",
   "metadata": {},
   "outputs": [
    {
     "name": "stdout",
     "output_type": "stream",
     "text": [
      "Count: 25\n",
      "Sum:  744\n",
      "Min:  24\n",
      "Max:  38\n",
      "Range:  14\n",
      "Mean:  29.76\n",
      "Median:  29\n",
      "Mode:  26\n",
      "Standard Deviation:  4.188364836066696\n",
      "Variance:  17.5424\n",
      "Frequency Distribution:  [(8.0, 24), (4.0, 25), (20.0, 26), (16.0, 27), (4.0, 29), (8.0, 31), (12.0, 32), (8.0, 33), (8.0, 34), (8.0, 37), (4.0, 38)]\n"
     ]
    }
   ],
   "source": [
    "ages = [31, 26, 34, 37, 27, 26, 32, 32, 26, 27, 27, 24, 32, 33, 27, 25, 26, 38, 37, 31, 34, 24, 33, 29, 26]\n",
    "data = Statistics(ages)\n",
    "print('Count:', data.count()) # 25\n",
    "print('Sum: ', data.sum()) # 744\n",
    "print('Min: ', data.min()) # 24\n",
    "print('Max: ', data.max()) # 38\n",
    "print('Range: ', data.range())# 14\n",
    "print('Mean: ', data.mean()) # 30\n",
    "print('Median: ', data.median()) # 29\n",
    "print('Mode: ', data.mode()) # {'mode': 26, 'count': 5}\n",
    "print('Standard Deviation: ', data.standard_deviation()) # 4.2\n",
    "print('Variance: ', data.variance()) # 17.5\n",
    "print('Frequency Distribution: ', data.frequency_distribution()) # [(20.0, 26), (16.0, 27), (12.0, 32), (8.0, 37), (8.0, 34), (8.0, 33), (8.0, 31), (8.0, 24), (4.0, 38), (4.0, 29), (4.0, 25)]"
   ]
  },
  {
   "cell_type": "code",
   "execution_count": 23,
   "id": "16917e31",
   "metadata": {},
   "outputs": [
    {
     "data": {
      "text/plain": [
       "3"
      ]
     },
     "execution_count": 23,
     "metadata": {},
     "output_type": "execute_result"
    }
   ],
   "source": [
    "7//2"
   ]
  },
  {
   "cell_type": "code",
   "execution_count": 27,
   "id": "d96c4c4f",
   "metadata": {},
   "outputs": [],
   "source": [
    "ages = [31, 26, 34, 37, 27, 26, 32, 32, 26, 27, 27, 24, 32, 33, 27, 25, 26, 38, 37, 31, 34, 24, 33, 29, 26]\n",
    "ages = Counter(ages)"
   ]
  },
  {
   "cell_type": "code",
   "execution_count": 28,
   "id": "48118a68",
   "metadata": {},
   "outputs": [
    {
     "data": {
      "text/plain": [
       "Counter({26: 5,\n",
       "         27: 4,\n",
       "         32: 3,\n",
       "         31: 2,\n",
       "         34: 2,\n",
       "         37: 2,\n",
       "         24: 2,\n",
       "         33: 2,\n",
       "         25: 1,\n",
       "         38: 1,\n",
       "         29: 1})"
      ]
     },
     "execution_count": 28,
     "metadata": {},
     "output_type": "execute_result"
    }
   ],
   "source": [
    "ages"
   ]
  },
  {
   "cell_type": "code",
   "execution_count": 35,
   "id": "d1f7b258",
   "metadata": {},
   "outputs": [],
   "source": [
    "class Food:\n",
    "    def __init__(self,*fruits,**vegtables):\n",
    "        self.fruits = fruits\n",
    "        self.vegtables = vegtables\n",
    "\n",
    "    def print_products(self):\n",
    "        for product in self.fruits:\n",
    "            print(product)\n",
    "        \n",
    "        for key in self.vegtables:\n",
    "            print(f\"{key}: {self.vegtables[key]}\")"
   ]
  },
  {
   "cell_type": "code",
   "execution_count": 36,
   "id": "3c9ae5a3",
   "metadata": {},
   "outputs": [],
   "source": [
    "food = Food(\"apple\", \"banana\", \"orange\", vegetable=\"tomato\", juice=\"orange\")"
   ]
  },
  {
   "cell_type": "code",
   "execution_count": 37,
   "id": "5da7c7d8",
   "metadata": {},
   "outputs": [
    {
     "name": "stdout",
     "output_type": "stream",
     "text": [
      "apple\n",
      "banana\n",
      "orange\n",
      "vegetable: tomato\n",
      "juice: orange\n"
     ]
    }
   ],
   "source": [
    "food.print_products()"
   ]
  },
  {
   "cell_type": "code",
   "execution_count": null,
   "id": "b73a6cbc",
   "metadata": {},
   "outputs": [],
   "source": []
  }
 ],
 "metadata": {
  "kernelspec": {
   "display_name": "Python 3",
   "language": "python",
   "name": "python3"
  },
  "language_info": {
   "codemirror_mode": {
    "name": "ipython",
    "version": 3
   },
   "file_extension": ".py",
   "mimetype": "text/x-python",
   "name": "python",
   "nbconvert_exporter": "python",
   "pygments_lexer": "ipython3",
   "version": "3.13.3"
  }
 },
 "nbformat": 4,
 "nbformat_minor": 5
}
