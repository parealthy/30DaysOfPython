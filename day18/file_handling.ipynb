{
 "cells": [
  {
   "cell_type": "code",
   "execution_count": 1,
   "id": "0707521f",
   "metadata": {},
   "outputs": [
    {
     "data": {
      "text/plain": [
       "'/Users/focus/Desktop/30DaysOfPython/day18'"
      ]
     },
     "execution_count": 1,
     "metadata": {},
     "output_type": "execute_result"
    }
   ],
   "source": [
    "import os\n",
    "os.getcwd()"
   ]
  },
  {
   "cell_type": "code",
   "execution_count": 3,
   "id": "39dfa3ba",
   "metadata": {},
   "outputs": [],
   "source": [
    "f = open('./files/reading_file_example.txt')"
   ]
  },
  {
   "cell_type": "code",
   "execution_count": 4,
   "id": "ade67fa8",
   "metadata": {},
   "outputs": [
    {
     "name": "stdout",
     "output_type": "stream",
     "text": [
      "<_io.TextIOWrapper name='./files/reading_file_example.txt' mode='r' encoding='utf-8'>\n"
     ]
    }
   ],
   "source": [
    "print(f)"
   ]
  },
  {
   "cell_type": "code",
   "execution_count": 5,
   "id": "f43ce465",
   "metadata": {},
   "outputs": [
    {
     "data": {
      "text/plain": [
       "_io.TextIOWrapper"
      ]
     },
     "execution_count": 5,
     "metadata": {},
     "output_type": "execute_result"
    }
   ],
   "source": [
    "type(f)"
   ]
  },
  {
   "cell_type": "code",
   "execution_count": 10,
   "id": "424002ef",
   "metadata": {},
   "outputs": [
    {
     "name": "stdout",
     "output_type": "stream",
     "text": [
      "<class 'list'>\n",
      "2\n",
      "['This is an example to show how to open a file and read.\\n', 'This is the second line of the text.I love python']\n"
     ]
    }
   ],
   "source": [
    "f = open('./files/reading_file_example.txt')\n",
    "lines = f.readlines()\n",
    "print(type(lines))\n",
    "print(len(lines))\n",
    "print(lines)\n",
    "f.close()"
   ]
  },
  {
   "cell_type": "code",
   "execution_count": 11,
   "id": "1b09bf0e",
   "metadata": {},
   "outputs": [
    {
     "name": "stdout",
     "output_type": "stream",
     "text": [
      "<class 'list'>\n",
      "['This is an example to show how to open a file and read.', 'This is the second line of the text.I love python']\n"
     ]
    }
   ],
   "source": [
    "f = open('./files/reading_file_example.txt')\n",
    "lines = f.read().splitlines()\n",
    "print(type(lines))\n",
    "print(lines)\n",
    "f.close()"
   ]
  },
  {
   "cell_type": "code",
   "execution_count": 12,
   "id": "496d7df9",
   "metadata": {},
   "outputs": [
    {
     "name": "stdout",
     "output_type": "stream",
     "text": [
      "<class 'list'>\n",
      "['This is an example to show how to open a file and read.', 'This is the second line of the text.I love python']\n"
     ]
    }
   ],
   "source": [
    "with open('./files/reading_file_example.txt') as f:\n",
    "    lines = f.read().splitlines()\n",
    "    print(type(lines))\n",
    "    print(lines)"
   ]
  },
  {
   "cell_type": "code",
   "execution_count": 13,
   "id": "44b99ae3",
   "metadata": {},
   "outputs": [],
   "source": [
    "with open('./files/reading_file_example.txt','a') as f:\n",
    "    f.write('此文本必须附加在末尾')"
   ]
  },
  {
   "cell_type": "code",
   "execution_count": 14,
   "id": "5a1d8eb7",
   "metadata": {},
   "outputs": [],
   "source": [
    "with open('./files/writing_file_example.txt','w') as f:\n",
    "    f.write('这段文本将被写入新创建的文件中')"
   ]
  },
  {
   "cell_type": "code",
   "execution_count": 15,
   "id": "14241b36",
   "metadata": {},
   "outputs": [],
   "source": [
    "import os"
   ]
  },
  {
   "cell_type": "code",
   "execution_count": 16,
   "id": "61f38fbc",
   "metadata": {},
   "outputs": [
    {
     "ename": "FileNotFoundError",
     "evalue": "[Errno 2] No such file or directory: './files/example.txt'",
     "output_type": "error",
     "traceback": [
      "\u001b[31m---------------------------------------------------------------------------\u001b[39m",
      "\u001b[31mFileNotFoundError\u001b[39m                         Traceback (most recent call last)",
      "\u001b[36mCell\u001b[39m\u001b[36m \u001b[39m\u001b[32mIn[16]\u001b[39m\u001b[32m, line 1\u001b[39m\n\u001b[32m----> \u001b[39m\u001b[32m1\u001b[39m \u001b[43mos\u001b[49m\u001b[43m.\u001b[49m\u001b[43mremove\u001b[49m\u001b[43m(\u001b[49m\u001b[33;43m'\u001b[39;49m\u001b[33;43m./files/example.txt\u001b[39;49m\u001b[33;43m'\u001b[39;49m\u001b[43m)\u001b[49m\n",
      "\u001b[31mFileNotFoundError\u001b[39m: [Errno 2] No such file or directory: './files/example.txt'"
     ]
    }
   ],
   "source": [
    "os.remove('./files/example.txt')"
   ]
  },
  {
   "cell_type": "code",
   "execution_count": 17,
   "id": "374253e0",
   "metadata": {},
   "outputs": [
    {
     "name": "stdout",
     "output_type": "stream",
     "text": [
      "<module 'posixpath' (frozen)>\n"
     ]
    }
   ],
   "source": [
    "print(os.path)"
   ]
  },
  {
   "cell_type": "code",
   "execution_count": 18,
   "id": "c91eeeb3",
   "metadata": {},
   "outputs": [
    {
     "data": {
      "text/plain": [
       "module"
      ]
     },
     "execution_count": 18,
     "metadata": {},
     "output_type": "execute_result"
    }
   ],
   "source": [
    "type(os.path)"
   ]
  },
  {
   "cell_type": "code",
   "execution_count": 19,
   "id": "85e1e8ca",
   "metadata": {},
   "outputs": [
    {
     "name": "stdout",
     "output_type": "stream",
     "text": [
      "文件不存在\n"
     ]
    }
   ],
   "source": [
    "if os.path.exists('./files/example.txt'):\n",
    "    os.remove('./files/example.txt')\n",
    "else:\n",
    "    print('文件不存在')"
   ]
  },
  {
   "cell_type": "code",
   "execution_count": 20,
   "id": "aba0f199",
   "metadata": {},
   "outputs": [],
   "source": [
    "person_dct= {\n",
    "    \"name\":\"Asabeneh\",\n",
    "    \"country\":\"Finland\",\n",
    "    \"city\":\"Helsinki\",\n",
    "    \"skills\":[\"JavaScrip\", \"React\",\"Python\"]\n",
    "}\n",
    "# JSON: 字典的字符串形式\n",
    "person_json = \"{'name': 'Asabeneh', 'country': 'Finland', 'city': 'Helsinki', 'skills': ['JavaScrip', 'React', 'Python']}\""
   ]
  },
  {
   "cell_type": "code",
   "execution_count": 21,
   "id": "f8500411",
   "metadata": {},
   "outputs": [
    {
     "data": {
      "text/plain": [
       "(dict, str)"
      ]
     },
     "execution_count": 21,
     "metadata": {},
     "output_type": "execute_result"
    }
   ],
   "source": [
    "type(person_dct),type(person_json)"
   ]
  },
  {
   "cell_type": "code",
   "execution_count": 22,
   "id": "3b601a77",
   "metadata": {},
   "outputs": [],
   "source": [
    "import json"
   ]
  },
  {
   "cell_type": "code",
   "execution_count": 23,
   "id": "d319253f",
   "metadata": {},
   "outputs": [
    {
     "name": "stdout",
     "output_type": "stream",
     "text": [
      "<class 'str'>\n",
      "<class 'dict'>\n",
      "{'name': 'Asabeneh', 'country': 'Finland', 'city': 'Helsinki', 'skills': ['JavaScrip', 'React', 'Python']}\n"
     ]
    },
    {
     "data": {
      "text/plain": [
       "'Asabeneh'"
      ]
     },
     "execution_count": 23,
     "metadata": {},
     "output_type": "execute_result"
    }
   ],
   "source": [
    "person_json = '''{\n",
    "    \"name\": \"Asabeneh\",\n",
    "    \"country\": \"Finland\",\n",
    "    \"city\": \"Helsinki\",\n",
    "    \"skills\": [\"JavaScrip\", \"React\", \"Python\"]\n",
    "}'''\n",
    "person_dct = json.loads(person_json)\n",
    "print(type(person_json))\n",
    "print(type(person_dct))\n",
    "print(person_dct)\n",
    "person_dct['name']"
   ]
  },
  {
   "cell_type": "code",
   "execution_count": 30,
   "id": "95f23be4",
   "metadata": {},
   "outputs": [
    {
     "name": "stdout",
     "output_type": "stream",
     "text": [
      "<class 'str'>\n",
      "{ }\n",
      "{\n",
      "    \"name\": \"Asabeneh\",\n",
      "    \"country\": \"Finland\",\n",
      "    \"city\": \"Helsinki\",\n",
      "    \"skills\": [\n",
      "        \"JavaScrip\",\n",
      "        \"React\",\n",
      "        \"Python\"\n",
      "    ]\n",
      "}\n"
     ]
    }
   ],
   "source": [
    "person = {\n",
    "    \"name\": \"Asabeneh\",\n",
    "    \"country\": \"Finland\",\n",
    "    \"city\": \"Helsinki\",\n",
    "    \"skills\": [\"JavaScrip\", \"React\", \"Python\"]\n",
    "}\n",
    "# 将字典转换为JSON字符串\n",
    "person_json = json.dumps(person,indent=4) # indent可以是2, 4, 8. 它漂亮地打印了。\n",
    "print(type(person_json))\n",
    "print(person_json[0],person_json[-1])\n",
    "print(person_json)"
   ]
  },
  {
   "cell_type": "code",
   "execution_count": 31,
   "id": "71dba141",
   "metadata": {},
   "outputs": [],
   "source": [
    "person = {\n",
    "    \"name\": \"Asabeneh\",\n",
    "    \"country\": \"Finland\",\n",
    "    \"city\": \"Helsinki\",\n",
    "    \"skills\": [\"JavaScrip\", \"React\", \"Python\"]\n",
    "}\n",
    "with open('./files/json_example.json','w',encoding='utf-8') as f:\n",
    "    json.dump(person,f,ensure_ascii=False,indent=4)"
   ]
  },
  {
   "cell_type": "code",
   "execution_count": 32,
   "id": "9c71284a",
   "metadata": {},
   "outputs": [],
   "source": [
    "person = {\n",
    "    \"name\": \"张三\",\n",
    "    \"country\": \"中国\",\n",
    "    \"city\": \"北京\",\n",
    "    \"skills\": [\"JavaScript\", \"React\", \"Python\"]\n",
    "}\n",
    "with open('./files/json_example.json', 'w', encoding='utf-8') as f:\n",
    "    json.dump(person, f, ensure_ascii=False, indent=4)"
   ]
  },
  {
   "cell_type": "code",
   "execution_count": 33,
   "id": "645019b9",
   "metadata": {},
   "outputs": [
    {
     "name": "stdout",
     "output_type": "stream",
     "text": [
      "<class 'dict'>\n",
      "{'name': '张三', 'country': '中国', 'city': '北京', 'skills': ['JavaScript', 'React', 'Python']}\n"
     ]
    }
   ],
   "source": [
    "with open('./files/json_example.json') as f:\n",
    "    person = json.load(f)\n",
    "    print(type(person))\n",
    "    print(person)"
   ]
  },
  {
   "cell_type": "code",
   "execution_count": 34,
   "id": "465e0e89",
   "metadata": {},
   "outputs": [
    {
     "ename": "FileNotFoundError",
     "evalue": "[Errno 2] No such file or directory: './files/csv_example.csv'",
     "output_type": "error",
     "traceback": [
      "\u001b[31m---------------------------------------------------------------------------\u001b[39m",
      "\u001b[31mFileNotFoundError\u001b[39m                         Traceback (most recent call last)",
      "\u001b[36mCell\u001b[39m\u001b[36m \u001b[39m\u001b[32mIn[34]\u001b[39m\u001b[32m, line 2\u001b[39m\n\u001b[32m      1\u001b[39m \u001b[38;5;28;01mimport\u001b[39;00m\u001b[38;5;250m \u001b[39m\u001b[34;01mcsv\u001b[39;00m\n\u001b[32m----> \u001b[39m\u001b[32m2\u001b[39m \u001b[38;5;28;01mwith\u001b[39;00m \u001b[38;5;28;43mopen\u001b[39;49m\u001b[43m(\u001b[49m\u001b[33;43m'\u001b[39;49m\u001b[33;43m./files/csv_example.csv\u001b[39;49m\u001b[33;43m'\u001b[39;49m\u001b[43m)\u001b[49m \u001b[38;5;28;01mas\u001b[39;00m f:\n\u001b[32m      3\u001b[39m     csv_reader = csv.reader(f, delimiter=\u001b[33m'\u001b[39m\u001b[33m,\u001b[39m\u001b[33m'\u001b[39m) \u001b[38;5;66;03m# w+ 创建文件（如果不存在）\u001b[39;00m\n\u001b[32m      4\u001b[39m     line_count = \u001b[32m0\u001b[39m\n",
      "\u001b[36mFile \u001b[39m\u001b[32m/Library/Frameworks/Python.framework/Versions/3.13/lib/python3.13/site-packages/IPython/core/interactiveshell.py:326\u001b[39m, in \u001b[36m_modified_open\u001b[39m\u001b[34m(file, *args, **kwargs)\u001b[39m\n\u001b[32m    319\u001b[39m \u001b[38;5;28;01mif\u001b[39;00m file \u001b[38;5;129;01min\u001b[39;00m {\u001b[32m0\u001b[39m, \u001b[32m1\u001b[39m, \u001b[32m2\u001b[39m}:\n\u001b[32m    320\u001b[39m     \u001b[38;5;28;01mraise\u001b[39;00m \u001b[38;5;167;01mValueError\u001b[39;00m(\n\u001b[32m    321\u001b[39m         \u001b[33mf\u001b[39m\u001b[33m\"\u001b[39m\u001b[33mIPython won\u001b[39m\u001b[33m'\u001b[39m\u001b[33mt let you open fd=\u001b[39m\u001b[38;5;132;01m{\u001b[39;00mfile\u001b[38;5;132;01m}\u001b[39;00m\u001b[33m by default \u001b[39m\u001b[33m\"\u001b[39m\n\u001b[32m    322\u001b[39m         \u001b[33m\"\u001b[39m\u001b[33mas it is likely to crash IPython. If you know what you are doing, \u001b[39m\u001b[33m\"\u001b[39m\n\u001b[32m    323\u001b[39m         \u001b[33m\"\u001b[39m\u001b[33myou can use builtins\u001b[39m\u001b[33m'\u001b[39m\u001b[33m open.\u001b[39m\u001b[33m\"\u001b[39m\n\u001b[32m    324\u001b[39m     )\n\u001b[32m--> \u001b[39m\u001b[32m326\u001b[39m \u001b[38;5;28;01mreturn\u001b[39;00m \u001b[43mio_open\u001b[49m\u001b[43m(\u001b[49m\u001b[43mfile\u001b[49m\u001b[43m,\u001b[49m\u001b[43m \u001b[49m\u001b[43m*\u001b[49m\u001b[43margs\u001b[49m\u001b[43m,\u001b[49m\u001b[43m \u001b[49m\u001b[43m*\u001b[49m\u001b[43m*\u001b[49m\u001b[43mkwargs\u001b[49m\u001b[43m)\u001b[49m\n",
      "\u001b[31mFileNotFoundError\u001b[39m: [Errno 2] No such file or directory: './files/csv_example.csv'"
     ]
    }
   ],
   "source": [
    "import csv\n",
    "with open('./files/csv_example.csv') as f:\n",
    "    csv_reader = csv.reader(f, delimiter=',') # w+ 创建文件（如果不存在）\n",
    "    line_count = 0\n",
    "    for row in csv_reader:\n",
    "        if line_count == 0:\n",
    "            print(f'列名为: {\", \".join(row)}')\n",
    "            line_count += 1\n",
    "        else:\n",
    "            print(f'{row[0]}来自{row[1]}的{row[2]}。 他了解{row[3]}')\n",
    "            line_count += 1\n",
    "    print(f'已处理{line_count}行。')"
   ]
  },
  {
   "cell_type": "code",
   "execution_count": 36,
   "id": "235670b3",
   "metadata": {},
   "outputs": [],
   "source": [
    "import csv\n",
    "with open('./files/csv_example.csv','w') as f:\n",
    "    writer = csv.writer(f)\n",
    "    writer.writerow(['name','country','city','skills'])\n",
    "    writer.writerow(['Asabeneh', 'Finland', 'Helsinki', 'JavaScript'])"
   ]
  },
  {
   "cell_type": "code",
   "execution_count": 38,
   "id": "64ba7e71",
   "metadata": {},
   "outputs": [
    {
     "name": "stdout",
     "output_type": "stream",
     "text": [
      "<_csv.reader object at 0x1072b5850>\n",
      "['name', 'country', 'city', 'skills']\n",
      "列名为: name, country, city, skills\n",
      "['Asabeneh', 'Finland', 'Helsinki', 'JavaScript']\n",
      "Asabeneh来自Finland的Helsinki。 他了解JavaScript\n",
      "已处理2行。\n"
     ]
    }
   ],
   "source": [
    "with open('./files/csv_example.csv') as f:\n",
    "    csv_reader = csv.reader(f, delimiter=',') # w+ 创建文件（如果不存在）\n",
    "    print(csv_reader)\n",
    "    line_count = 0\n",
    "    for row in csv_reader:\n",
    "        if line_count == 0:\n",
    "            print(row)\n",
    "            print(f'列名为: {\", \".join(row)}')\n",
    "            line_count += 1\n",
    "        else:\n",
    "            print(row)\n",
    "            print(f'{row[0]}来自{row[1]}的{row[2]}。 他了解{row[3]}')\n",
    "            line_count += 1\n",
    "    print(f'已处理{line_count}行。')"
   ]
  },
  {
   "cell_type": "code",
   "execution_count": 39,
   "id": "9cd0d5e5",
   "metadata": {},
   "outputs": [],
   "source": [
    "import xml.etree.ElementTree as ET"
   ]
  },
  {
   "cell_type": "code",
   "execution_count": 40,
   "id": "d28d5c3c",
   "metadata": {},
   "outputs": [
    {
     "name": "stdout",
     "output_type": "stream",
     "text": [
      "Root tag: person\n"
     ]
    }
   ],
   "source": [
    "tree = ET.parse('./files/xml_example.xml')\n",
    "root = tree.getroot()\n",
    "print(\"Root tag:\",root.tag)"
   ]
  },
  {
   "cell_type": "code",
   "execution_count": 41,
   "id": "5ea15940",
   "metadata": {},
   "outputs": [
    {
     "name": "stdout",
     "output_type": "stream",
     "text": [
      "Attribute: {'gender': 'female'}\n"
     ]
    }
   ],
   "source": [
    "print('Attribute:', root.attrib)"
   ]
  },
  {
   "cell_type": "code",
   "execution_count": 42,
   "id": "4d5d0211",
   "metadata": {},
   "outputs": [
    {
     "name": "stdout",
     "output_type": "stream",
     "text": [
      "field:  name\n",
      "field:  country\n",
      "field:  city\n",
      "field:  skills\n"
     ]
    }
   ],
   "source": [
    "for child in root:\n",
    "    print('field: ', child.tag)"
   ]
  },
  {
   "cell_type": "code",
   "execution_count": 52,
   "id": "37be7b03",
   "metadata": {},
   "outputs": [],
   "source": [
    "def count_lines_words(file_name):\n",
    "    with open(file_name) as f:\n",
    "        content = f.read()\n",
    "        lines = len(content.splitlines())\n",
    "        words = len(content.split())\n",
    "    return lines,words"
   ]
  },
  {
   "cell_type": "code",
   "execution_count": 54,
   "id": "3553c485",
   "metadata": {},
   "outputs": [
    {
     "name": "stdout",
     "output_type": "stream",
     "text": [
      "(48, 1259)\n",
      "(66, 2400)\n"
     ]
    }
   ],
   "source": [
    "file_name1 = './files/donald_speech.txt'\n",
    "file_name2 = './files/obama_speech.txt'\n",
    "print(count_lines_words(file_name1))\n",
    "print(count_lines_words(file_name2))"
   ]
  },
  {
   "cell_type": "code",
   "execution_count": 60,
   "id": "3a44ca10",
   "metadata": {},
   "outputs": [],
   "source": [
    "import heapq\n",
    "from collections import defaultdict\n",
    "def most_spoken_languages(file_name,top):\n",
    "    with open(file_name) as f:\n",
    "        countries_lst = json.load(f)\n",
    "        languages_dict = defaultdict(int)\n",
    "        for country in countries_lst:\n",
    "            spoken_languages = country['languages'] \n",
    "            for language in spoken_languages:\n",
    "                languages_dict[language] += 1\n",
    "        top_spoken_languages = heapq.nlargest(top,languages_dict,key=lambda x:languages_dict[x])\n",
    "        result = [(languages_dict[language],language) for language in top_spoken_languages]\n",
    "    return result"
   ]
  },
  {
   "cell_type": "code",
   "execution_count": 62,
   "id": "b71046cc",
   "metadata": {},
   "outputs": [
    {
     "name": "stdout",
     "output_type": "stream",
     "text": [
      "[(91, 'English'), (45, 'French'), (25, 'Arabic')]\n"
     ]
    }
   ],
   "source": [
    "file_name = './files/countries_data.json'\n",
    "print(most_spoken_languages(file_name,3))"
   ]
  },
  {
   "cell_type": "code",
   "execution_count": 63,
   "id": "ab5ca45a",
   "metadata": {},
   "outputs": [],
   "source": [
    "def most_populated_countries(file_name,top):\n",
    "    with open(file_name) as f:\n",
    "        countries_lst = json.load(f)\n",
    "        populations = [{'country':country['name'],'population':country['population']} for country in countries_lst]\n",
    "        most_populated = heapq.nlargest(top,populations,key=lambda x:x['population'])\n",
    "    return most_populated\n",
    "        "
   ]
  },
  {
   "cell_type": "code",
   "execution_count": 64,
   "id": "a3c13075",
   "metadata": {},
   "outputs": [
    {
     "data": {
      "text/plain": [
       "[{'country': 'China', 'population': 1377422166},\n",
       " {'country': 'India', 'population': 1295210000},\n",
       " {'country': 'United States of America', 'population': 323947000},\n",
       " {'country': 'Indonesia', 'population': 258705000},\n",
       " {'country': 'Brazil', 'population': 206135893}]"
      ]
     },
     "execution_count": 64,
     "metadata": {},
     "output_type": "execute_result"
    }
   ],
   "source": [
    "most_populated_countries('./files/countries_data.json',5)"
   ]
  },
  {
   "cell_type": "code",
   "execution_count": 66,
   "id": "d73a00b3",
   "metadata": {},
   "outputs": [],
   "source": [
    "python_libraries = [\n",
    "{\n",
    "    \"库名称\": \"Django\",\n",
    "    \"创建者\": \"Adrian Holovaty\",\n",
    "    \"首次发布年份\": 2005,\n",
    "    \"版本\": \"4.0.2\",\n",
    "    \"用途\": \"Web开发\",\n",
    "    \"描述\": \"Django让您可以快速构建更好的Web应用程序。\"\n",
    "},\n",
    "{\n",
    "    \"库名称\": \"Flask\",\n",
    "    \"创建者\": \"Armin Ronacher\",\n",
    "    \"首次发布年份\": 2010,\n",
    "    \"版本\": \"2.0.2\",\n",
    "    \"用途\": \"Web开发\",\n",
    "    \"描述\": \"Flask是一个轻量级的WSGI Web应用程序框架。\"\n",
    "},\n",
    "{\n",
    "    \"库名称\": \"NumPy\",\n",
    "    \"创建者\": \"Travis Oliphant\",\n",
    "    \"首次发布年份\": 2005,\n",
    "    \"版本\": \"1.22.0\",\n",
    "    \"用途\": \"科学计算\",\n",
    "    \"描述\": \"NumPy是Python中用于科学计算的基础包。\"\n",
    "},\n",
    "{\n",
    "    \"库名称\": \"Pandas\",\n",
    "    \"创建者\": \"Wes McKinney\",\n",
    "    \"首次发布年份\": 2008,\n",
    "    \"版本\": \"1.4.0\",\n",
    "    \"用途\": \"数据分析\",\n",
    "    \"描述\": \"pandas是一个用于数据分析和数据操作的开源库。\"\n",
    "},\n",
    "{\n",
    "    \"库名称\": \"Matplotlib\",\n",
    "    \"创建者\": \"John D. Hunter\",\n",
    "    \"首次发布年份\": 2003,\n",
    "    \"版本\": \"3.5.1\",\n",
    "    \"用途\": \"数据可视化\",\n",
    "    \"描述\": \"Matplotlib是一个用于在Python中创建静态、动画和交互式可视化的库。\"\n",
    "}\n",
    "]\n",
    "\n",
    "with open('./files/python_libraries.json','w') as f:\n",
    "    json.dump(python_libraries,f,ensure_ascii=False,indent=4)"
   ]
  },
  {
   "cell_type": "code",
   "execution_count": null,
   "id": "417838cf",
   "metadata": {},
   "outputs": [],
   "source": []
  }
 ],
 "metadata": {
  "kernelspec": {
   "display_name": "Python 3",
   "language": "python",
   "name": "python3"
  },
  "language_info": {
   "codemirror_mode": {
    "name": "ipython",
    "version": 3
   },
   "file_extension": ".py",
   "mimetype": "text/x-python",
   "name": "python",
   "nbconvert_exporter": "python",
   "pygments_lexer": "ipython3",
   "version": "3.13.3"
  }
 },
 "nbformat": 4,
 "nbformat_minor": 5
}
