{
 "cells": [
  {
   "cell_type": "code",
   "execution_count": 2,
   "id": "fefb29e5",
   "metadata": {},
   "outputs": [
    {
     "name": "stdout",
     "output_type": "stream",
     "text": [
      "[0, 2, 4, 6, 8, 10, 12, 14, 16, 18, 20]\n"
     ]
    }
   ],
   "source": [
    "even_numbers = []\n",
    "for i in range(21):\n",
    "    if i % 2 == 0:\n",
    "        even_numbers.append(i)\n",
    "print(even_numbers)"
   ]
  },
  {
   "cell_type": "code",
   "execution_count": 3,
   "id": "965b4b45",
   "metadata": {},
   "outputs": [],
   "source": [
    "squared = []\n",
    "for i in range(11):\n",
    "    squared.append((i,i*i))"
   ]
  },
  {
   "cell_type": "code",
   "execution_count": 4,
   "id": "82e1f765",
   "metadata": {},
   "outputs": [
    {
     "data": {
      "text/plain": [
       "[(0, 0),\n",
       " (1, 1),\n",
       " (2, 4),\n",
       " (3, 9),\n",
       " (4, 16),\n",
       " (5, 25),\n",
       " (6, 36),\n",
       " (7, 49),\n",
       " (8, 64),\n",
       " (9, 81),\n",
       " (10, 100)]"
      ]
     },
     "execution_count": 4,
     "metadata": {},
     "output_type": "execute_result"
    }
   ],
   "source": [
    "squared"
   ]
  },
  {
   "cell_type": "code",
   "execution_count": 5,
   "id": "24f9cdb8",
   "metadata": {},
   "outputs": [
    {
     "name": "stdout",
     "output_type": "stream",
     "text": [
      "[1, 2, 3, 4, 5, 6, 7, 8, 9]\n"
     ]
    }
   ],
   "source": [
    "list_of_lists = [[1, 2, 3], [4, 5, 6], [7, 8, 9]]\n",
    "flattened_list = [number for row in list_of_lists for number in row]\n",
    "print(flattened_list) "
   ]
  },
  {
   "cell_type": "code",
   "execution_count": 6,
   "id": "19de0b53",
   "metadata": {},
   "outputs": [
    {
     "data": {
      "text/plain": [
       "function"
      ]
     },
     "execution_count": 6,
     "metadata": {},
     "output_type": "execute_result"
    }
   ],
   "source": [
    "add_two_nums = lambda a, b: a + b\n",
    "type(add_two_nums)"
   ]
  },
  {
   "cell_type": "code",
   "execution_count": 7,
   "id": "ad31adca",
   "metadata": {},
   "outputs": [
    {
     "data": {
      "text/plain": [
       "[-4, -3, -2, -1, 0]"
      ]
     },
     "execution_count": 7,
     "metadata": {},
     "output_type": "execute_result"
    }
   ],
   "source": [
    "numbers = [-4, -3, -2, -1, 0, 2, 4, 6]\n",
    "neg_zero = [number for number in numbers if number<=0]\n",
    "neg_zero"
   ]
  },
  {
   "cell_type": "code",
   "execution_count": 8,
   "id": "3035d990",
   "metadata": {},
   "outputs": [],
   "source": [
    "list_of_lists = [[[1, 2, 3]], [[4, 5, 6]], [[7, 8, 9]]]\n",
    "flattened = [i for layer in list_of_lists for row in layer for i in row]"
   ]
  },
  {
   "cell_type": "code",
   "execution_count": 9,
   "id": "71670da5",
   "metadata": {},
   "outputs": [
    {
     "data": {
      "text/plain": [
       "[1, 2, 3, 4, 5, 6, 7, 8, 9]"
      ]
     },
     "execution_count": 9,
     "metadata": {},
     "output_type": "execute_result"
    }
   ],
   "source": [
    "flattened"
   ]
  },
  {
   "cell_type": "code",
   "execution_count": 10,
   "id": "f5a621ac",
   "metadata": {},
   "outputs": [],
   "source": [
    "lst = []\n",
    "for i in range(11):\n",
    "    tp = [i]\n",
    "    for j in range(6):\n",
    "        tp.append(i**j)\n",
    "    lst.append(tuple(tp))"
   ]
  },
  {
   "cell_type": "code",
   "execution_count": 11,
   "id": "ae46f2fc",
   "metadata": {},
   "outputs": [
    {
     "data": {
      "text/plain": [
       "[(0, 1, 0, 0, 0, 0, 0),\n",
       " (1, 1, 1, 1, 1, 1, 1),\n",
       " (2, 1, 2, 4, 8, 16, 32),\n",
       " (3, 1, 3, 9, 27, 81, 243),\n",
       " (4, 1, 4, 16, 64, 256, 1024),\n",
       " (5, 1, 5, 25, 125, 625, 3125),\n",
       " (6, 1, 6, 36, 216, 1296, 7776),\n",
       " (7, 1, 7, 49, 343, 2401, 16807),\n",
       " (8, 1, 8, 64, 512, 4096, 32768),\n",
       " (9, 1, 9, 81, 729, 6561, 59049),\n",
       " (10, 1, 10, 100, 1000, 10000, 100000)]"
      ]
     },
     "execution_count": 11,
     "metadata": {},
     "output_type": "execute_result"
    }
   ],
   "source": [
    "lst"
   ]
  },
  {
   "cell_type": "code",
   "execution_count": 12,
   "id": "1c5d8feb",
   "metadata": {},
   "outputs": [
    {
     "name": "stdout",
     "output_type": "stream",
     "text": [
      "[(1, 0, 0, 0, 0, 0, 0), (1, 1, 1, 1, 1, 1, 1), (1, 2, 4, 8, 16, 32, 64), (1, 3, 9, 27, 81, 243, 729), (1, 4, 16, 64, 256, 1024, 4096), (1, 5, 25, 125, 625, 3125, 15625), (1, 6, 36, 216, 1296, 7776, 46656), (1, 7, 49, 343, 2401, 16807, 117649), (1, 8, 64, 512, 4096, 32768, 262144), (1, 9, 81, 729, 6561, 59049, 531441), (1, 10, 100, 1000, 10000, 100000, 1000000)]\n"
     ]
    }
   ],
   "source": [
    "lst = [tuple(i**j for j in range(7)) for i in range(11)]\n",
    "print(lst)"
   ]
  },
  {
   "cell_type": "code",
   "execution_count": 17,
   "id": "b7abdd3b",
   "metadata": {},
   "outputs": [],
   "source": [
    "countries = [[('Finland', 'Helsinki')], [('Sweden', 'Stockholm')], [('Norway', 'Oslo')]]\n",
    "#output:\n",
    "#[['FINLAND','FIN', 'HELSINKI'], ['SWEDEN', 'SWE', 'STOCKHOLM'], ['NORWAY', 'NOR', 'OSLO']]"
   ]
  },
  {
   "cell_type": "code",
   "execution_count": 14,
   "id": "f8224797",
   "metadata": {},
   "outputs": [
    {
     "data": {
      "text/plain": [
       "[('芬兰', '赫尔辛基')]"
      ]
     },
     "execution_count": 14,
     "metadata": {},
     "output_type": "execute_result"
    }
   ],
   "source": [
    "countries[0]"
   ]
  },
  {
   "cell_type": "code",
   "execution_count": 18,
   "id": "15bf129b",
   "metadata": {},
   "outputs": [],
   "source": [
    "countries_lst = [[country[0][0].upper(),country[0][0][:3].upper(),country[0][1].upper()] for country in countries]"
   ]
  },
  {
   "cell_type": "code",
   "execution_count": 19,
   "id": "0f354a58",
   "metadata": {},
   "outputs": [
    {
     "data": {
      "text/plain": [
       "[['FINLAND', 'FIN', 'HELSINKI'],\n",
       " ['SWEDEN', 'SWE', 'STOCKHOLM'],\n",
       " ['NORWAY', 'NOR', 'OSLO']]"
      ]
     },
     "execution_count": 19,
     "metadata": {},
     "output_type": "execute_result"
    }
   ],
   "source": [
    "countries_lst"
   ]
  },
  {
   "cell_type": "code",
   "execution_count": 21,
   "id": "ac9329f4",
   "metadata": {},
   "outputs": [
    {
     "name": "stdout",
     "output_type": "stream",
     "text": [
      "[['FINLAND', 'FIN', 'HELSINKI'], ['SWEDEN', 'SWE', 'STOCKHOLM'], ['NORWAY', 'NOR', 'OSLO']]\n"
     ]
    }
   ],
   "source": [
    "result = [[country.upper(), country[:3].upper(), capital.upper()] \n",
    "          for [(country, capital)] in countries]\n",
    "print(result)"
   ]
  },
  {
   "cell_type": "code",
   "execution_count": 22,
   "id": "f3acc3e0",
   "metadata": {},
   "outputs": [
    {
     "data": {
      "text/plain": [
       "True"
      ]
     },
     "execution_count": 22,
     "metadata": {},
     "output_type": "execute_result"
    }
   ],
   "source": [
    "result == countries_lst"
   ]
  },
  {
   "cell_type": "code",
   "execution_count": 23,
   "id": "93cf8973",
   "metadata": {},
   "outputs": [],
   "source": [
    "countries = [[('Finland', 'Helsinki')], [('Sweden', 'Stockholm')], [('Norway', 'Oslo')]]\n",
    "#output:\n",
    "#[{'country': 'FINLAND', 'city': 'HELSINKI'},\n",
    "#{'country': 'SWEDEN', 'city': 'STOCKHOLM'},\n",
    "#{'country': 'NORWAY', 'city': 'OSLO'}]"
   ]
  },
  {
   "cell_type": "code",
   "execution_count": 24,
   "id": "e0280e74",
   "metadata": {},
   "outputs": [],
   "source": [
    "new_lst = [{'country':country.upper(),'city':capital.upper()}for [(country,capital)] in countries]"
   ]
  },
  {
   "cell_type": "code",
   "execution_count": 25,
   "id": "21eca53b",
   "metadata": {},
   "outputs": [
    {
     "data": {
      "text/plain": [
       "[{'country': 'FINLAND', 'city': 'HELSINKI'},\n",
       " {'country': 'SWEDEN', 'city': 'STOCKHOLM'},\n",
       " {'country': 'NORWAY', 'city': 'OSLO'}]"
      ]
     },
     "execution_count": 25,
     "metadata": {},
     "output_type": "execute_result"
    }
   ],
   "source": [
    "new_lst"
   ]
  },
  {
   "cell_type": "code",
   "execution_count": 26,
   "id": "f69830ca",
   "metadata": {},
   "outputs": [],
   "source": [
    "names = [[('Asabeneh', 'Yetayeh')], [('David', 'Smith')], [('Donald', 'Trump')], [('Bill', 'Gates')]]\n",
    "#output\n",
    "#['Asabeneh Yetaeyeh', 'David Smith', 'Donald Trump', 'Bill Gates']"
   ]
  },
  {
   "cell_type": "code",
   "execution_count": 27,
   "id": "30f00b03",
   "metadata": {},
   "outputs": [
    {
     "data": {
      "text/plain": [
       "'zhudi'"
      ]
     },
     "execution_count": 27,
     "metadata": {},
     "output_type": "execute_result"
    }
   ],
   "source": [
    "''.join(('zhu','di'))"
   ]
  },
  {
   "cell_type": "code",
   "execution_count": 28,
   "id": "7b659a2d",
   "metadata": {},
   "outputs": [],
   "source": [
    "result = [' '.join(name) for [name] in names]"
   ]
  },
  {
   "cell_type": "code",
   "execution_count": 29,
   "id": "1bf3fcb0",
   "metadata": {},
   "outputs": [
    {
     "data": {
      "text/plain": [
       "['Asabeneh Yetayeh', 'David Smith', 'Donald Trump', 'Bill Gates']"
      ]
     },
     "execution_count": 29,
     "metadata": {},
     "output_type": "execute_result"
    }
   ],
   "source": [
    "result"
   ]
  },
  {
   "cell_type": "code",
   "execution_count": 30,
   "id": "d448fd2a",
   "metadata": {},
   "outputs": [],
   "source": [
    "slope = lambda x1, y1, x2, y2: (y2 - y1) / (x2 - x1)"
   ]
  },
  {
   "cell_type": "code",
   "execution_count": 31,
   "id": "72f98082",
   "metadata": {},
   "outputs": [
    {
     "data": {
      "text/plain": [
       "2.0"
      ]
     },
     "execution_count": 31,
     "metadata": {},
     "output_type": "execute_result"
    }
   ],
   "source": [
    "slope(1,2,2,4)"
   ]
  },
  {
   "cell_type": "code",
   "execution_count": null,
   "id": "f9c7558e",
   "metadata": {},
   "outputs": [],
   "source": []
  }
 ],
 "metadata": {
  "kernelspec": {
   "display_name": "Python 3",
   "language": "python",
   "name": "python3"
  },
  "language_info": {
   "codemirror_mode": {
    "name": "ipython",
    "version": 3
   },
   "file_extension": ".py",
   "mimetype": "text/x-python",
   "name": "python",
   "nbconvert_exporter": "python",
   "pygments_lexer": "ipython3",
   "version": "3.13.3"
  }
 },
 "nbformat": 4,
 "nbformat_minor": 5
}
